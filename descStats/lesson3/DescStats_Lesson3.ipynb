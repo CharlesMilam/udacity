{
 "cells": [
  {
   "cell_type": "markdown",
   "metadata": {},
   "source": [
    "# Descriptive Statistics - Lesson 3\n",
    "\n",
    "## Various exercises for lesson 3"
   ]
  },
  {
   "cell_type": "code",
   "execution_count": 60,
   "metadata": {
    "collapsed": true
   },
   "outputs": [],
   "source": [
    "import numpy as np\n",
    "import pandas as pd\n",
    "import matplotlib.pyplot as plt\n",
    "import seaborn as sns\n",
    "\n",
    "%matplotlib inline"
   ]
  },
  {
   "cell_type": "markdown",
   "metadata": {},
   "source": [
    "### Explore Facebook Friends"
   ]
  },
  {
   "cell_type": "code",
   "execution_count": 61,
   "metadata": {
    "collapsed": false
   },
   "outputs": [],
   "source": [
    "fb_friends_df = pd.read_csv('/home/scruffy/git/udacity/descStats/lesson3/Milam - How many Facebook friends do Udacians have- - Lesson 3 - Sheet1.csv')"
   ]
  },
  {
   "cell_type": "code",
   "execution_count": 62,
   "metadata": {
    "collapsed": false
   },
   "outputs": [
    {
     "data": {
      "text/html": [
       "<div>\n",
       "<table border=\"1\" class=\"dataframe\">\n",
       "  <thead>\n",
       "    <tr style=\"text-align: right;\">\n",
       "      <th></th>\n",
       "      <th>How many Facebook friends do you have?</th>\n",
       "    </tr>\n",
       "  </thead>\n",
       "  <tbody>\n",
       "    <tr>\n",
       "      <th>count</th>\n",
       "      <td>27.000000</td>\n",
       "    </tr>\n",
       "    <tr>\n",
       "      <th>mean</th>\n",
       "      <td>584.740741</td>\n",
       "    </tr>\n",
       "    <tr>\n",
       "      <th>std</th>\n",
       "      <td>437.581253</td>\n",
       "    </tr>\n",
       "    <tr>\n",
       "      <th>min</th>\n",
       "      <td>0.000000</td>\n",
       "    </tr>\n",
       "    <tr>\n",
       "      <th>25%</th>\n",
       "      <td>248.500000</td>\n",
       "    </tr>\n",
       "    <tr>\n",
       "      <th>50%</th>\n",
       "      <td>479.000000</td>\n",
       "    </tr>\n",
       "    <tr>\n",
       "      <th>75%</th>\n",
       "      <td>836.000000</td>\n",
       "    </tr>\n",
       "    <tr>\n",
       "      <th>max</th>\n",
       "      <td>1776.000000</td>\n",
       "    </tr>\n",
       "  </tbody>\n",
       "</table>\n",
       "</div>"
      ],
      "text/plain": [
       "       How many Facebook friends do you have?\n",
       "count                               27.000000\n",
       "mean                               584.740741\n",
       "std                                437.581253\n",
       "min                                  0.000000\n",
       "25%                                248.500000\n",
       "50%                                479.000000\n",
       "75%                                836.000000\n",
       "max                               1776.000000"
      ]
     },
     "execution_count": 62,
     "metadata": {},
     "output_type": "execute_result"
    }
   ],
   "source": [
    "fb_friends_df.describe()"
   ]
  },
  {
   "cell_type": "code",
   "execution_count": 63,
   "metadata": {
    "collapsed": false
   },
   "outputs": [
    {
     "data": {
      "text/plain": [
       "How many Facebook friends do you have?    479.0\n",
       "dtype: float64"
      ]
     },
     "execution_count": 63,
     "metadata": {},
     "output_type": "execute_result"
    }
   ],
   "source": [
    "# get median\n",
    "fb_friends_df.median()"
   ]
  },
  {
   "cell_type": "markdown",
   "metadata": {},
   "source": [
    "### Explore Memory Scores"
   ]
  },
  {
   "cell_type": "code",
   "execution_count": 64,
   "metadata": {
    "collapsed": true
   },
   "outputs": [],
   "source": [
    "mem_scores_df = pd.read_csv('/home/scruffy/git/udacity/descStats/lesson3/Milam - Memory Scores - PS3, PS4 - Sheet1.csv')"
   ]
  },
  {
   "cell_type": "code",
   "execution_count": 65,
   "metadata": {
    "collapsed": false
   },
   "outputs": [
    {
     "data": {
      "text/plain": [
       "225"
      ]
     },
     "execution_count": 65,
     "metadata": {},
     "output_type": "execute_result"
    }
   ],
   "source": [
    "# get size of sample\n",
    "len(mem_scores_df)"
   ]
  },
  {
   "cell_type": "code",
   "execution_count": 66,
   "metadata": {
    "collapsed": false
   },
   "outputs": [
    {
     "data": {
      "text/plain": [
       "Index([u'Recognition Score', u'Temporal Memory Score', u'Unnamed: 2',\n",
       "       u'Unnamed: 3'],\n",
       "      dtype='object')"
      ]
     },
     "execution_count": 66,
     "metadata": {},
     "output_type": "execute_result"
    }
   ],
   "source": [
    "mem_scores_df.columns"
   ]
  },
  {
   "cell_type": "code",
   "execution_count": 67,
   "metadata": {
    "collapsed": false
   },
   "outputs": [
    {
     "name": "stdout",
     "output_type": "stream",
     "text": [
      "means (face recognition, temporal memory): 93.1155555556 78.0266666667\n"
     ]
    }
   ],
   "source": [
    "# get means of face score and temporal score\n",
    "face_mean = mem_scores_df['Recognition Score'].mean()\n",
    "temp_mean = mem_scores_df['Temporal Memory Score'].mean()\n",
    "\n",
    "print 'means (face recognition, temporal memory):', face_mean, temp_mean"
   ]
  },
  {
   "cell_type": "code",
   "execution_count": 68,
   "metadata": {
    "collapsed": false
   },
   "outputs": [
    {
     "name": "stdout",
     "output_type": "stream",
     "text": [
      "deltas (face recognition, temporal memory): -1.11555555556 -10.0266666667\n"
     ]
    }
   ],
   "source": [
    "# determine deltas of samples from BBC means\n",
    "bbc_face_mean = 92\n",
    "bbc_temp_mean = 68\n",
    "\n",
    "face_delta = bbc_face_mean - face_mean\n",
    "temp_delta = bbc_temp_mean - temp_mean\n",
    "\n",
    "print 'deltas (face recognition, temporal memory):', face_delta, temp_delta"
   ]
  },
  {
   "cell_type": "markdown",
   "metadata": {},
   "source": [
    "### Explore NHL"
   ]
  },
  {
   "cell_type": "code",
   "execution_count": 69,
   "metadata": {
    "collapsed": false
   },
   "outputs": [],
   "source": [
    "nhl_df = pd.read_csv('/home/scruffy/git/udacity/descStats/lesson3/NHL - Problem Set 3 - Sheet1.csv')"
   ]
  },
  {
   "cell_type": "code",
   "execution_count": 70,
   "metadata": {
    "collapsed": false
   },
   "outputs": [
    {
     "data": {
      "text/plain": [
       "Index([u'Detroit Red Wings', u'San Jose Sharks'], dtype='object')"
      ]
     },
     "execution_count": 70,
     "metadata": {},
     "output_type": "execute_result"
    }
   ],
   "source": [
    "nhl_df.columns"
   ]
  },
  {
   "cell_type": "code",
   "execution_count": 71,
   "metadata": {
    "collapsed": false
   },
   "outputs": [
    {
     "name": "stdout",
     "output_type": "stream",
     "text": [
      "means (red wings, sharks) 72.86 73.83\n"
     ]
    }
   ],
   "source": [
    "# get means for each team\n",
    "redwings_mean = nhl_df['Detroit Red Wings'].mean()\n",
    "sharks_mean = nhl_df['San Jose Sharks'].mean()\n",
    "\n",
    "print 'means (red wings, sharks)', '{0:.2f}'.format(redwings_mean), '{0:.2f}'.format(sharks_mean)"
   ]
  },
  {
   "cell_type": "code",
   "execution_count": 72,
   "metadata": {
    "collapsed": false
   },
   "outputs": [
    {
     "data": {
      "text/plain": [
       "(array([ 1.,  2.,  4.,  0.,  7.,  2.,  0.,  5.,  5.,  2.]),\n",
       " array([ 69. ,  69.7,  70.4,  71.1,  71.8,  72.5,  73.2,  73.9,  74.6,\n",
       "         75.3,  76. ]),\n",
       " <a list of 10 Patch objects>)"
      ]
     },
     "execution_count": 72,
     "metadata": {},
     "output_type": "execute_result"
    },
    {
     "data": {
      "image/png": "[encoded data removed]",
      "text/plain": [
       "<matplotlib.figure.Figure at 0x7f1920e6c5d0>"
      ]
     },
     "metadata": {},
     "output_type": "display_data"
    }
   ],
   "source": [
    "# histogram for red wings\n",
    "plt.hist(nhl_df['Detroit Red Wings'], color = 'firebrick')"
   ]
  },
  {
   "cell_type": "code",
   "execution_count": 73,
   "metadata": {
    "collapsed": false
   },
   "outputs": [
    {
     "data": {
      "text/plain": [
       "(array([ 3.,  1.,  0.,  6.,  0.,  8.,  2.,  0.,  1.,  3.]),\n",
       " array([ 71. ,  71.6,  72.2,  72.8,  73.4,  74. ,  74.6,  75.2,  75.8,\n",
       "         76.4,  77. ]),\n",
       " <a list of 10 Patch objects>)"
      ]
     },
     "execution_count": 73,
     "metadata": {},
     "output_type": "execute_result"
    },
    {
     "data": {
      "image/png": "[encoded data removed]",
      "text/plain": [
       "<matplotlib.figure.Figure at 0x7f1920e78150>"
      ]
     },
     "metadata": {},
     "output_type": "display_data"
    }
   ],
   "source": [
    "# histogram for sharks\n",
    "plt.hist(nhl_df['San Jose Sharks'].dropna(), color = 'teal')"
   ]
  },
  {
   "cell_type": "code",
   "execution_count": 74,
   "metadata": {
    "collapsed": false
   },
   "outputs": [
    {
     "name": "stdout",
     "output_type": "stream",
     "text": [
      "medians (red wings, sharks): 72.5 74.0\n"
     ]
    }
   ],
   "source": [
    "# determine median of teams\n",
    "redwings_median = nhl_df['Detroit Red Wings'].median()\n",
    "sharks_median = nhl_df['San Jose Sharks'].median()\n",
    "\n",
    "print 'medians (red wings, sharks):', redwings_median, sharks_median"
   ]
  },
  {
   "cell_type": "markdown",
   "metadata": {},
   "source": [
    "### Explore Deal or No Deal Data"
   ]
  },
  {
   "cell_type": "code",
   "execution_count": 75,
   "metadata": {
    "collapsed": false
   },
   "outputs": [],
   "source": [
    "dnd_df = pd.read_csv('/home/scruffy/git/udacity/descStats/lesson3/Deal or No Deal- - Problem Set 3 - Sheet1.csv')"
   ]
  },
  {
   "cell_type": "code",
   "execution_count": 76,
   "metadata": {
    "collapsed": false
   },
   "outputs": [],
   "source": [
    "dnd_df.columns = ['prize']"
   ]
  },
  {
   "cell_type": "code",
   "execution_count": 77,
   "metadata": {
    "collapsed": false
   },
   "outputs": [
    {
     "data": {
      "text/plain": [
       "875.0"
      ]
     },
     "execution_count": 77,
     "metadata": {},
     "output_type": "execute_result"
    }
   ],
   "source": [
    "# get median prize\n",
    "dnd_median = dnd_df['prize'].median()\n",
    "dnd_median"
   ]
  },
  {
   "cell_type": "code",
   "execution_count": 104,
   "metadata": {
    "collapsed": false
   },
   "outputs": [
    {
     "data": {
      "text/plain": [
       "(array([ 5.,  2.,  1.,  0.,  1.,  0.,  1.,  0.,  1.,  1.]),\n",
       " array([   0.,   50.,  100.,  150.,  200.,  250.,  300.,  350.,  400.,\n",
       "         450.,  500.]),\n",
       " <a list of 10 Patch objects>)"
      ]
     },
     "execution_count": 104,
     "metadata": {},
     "output_type": "execute_result"
    },
    {
     "data": {
      "image/png": "[encoded data removed]",
      "text/plain": [
       "<matplotlib.figure.Figure at 0x7f1920cad4d0>"
      ]
     },
     "metadata": {},
     "output_type": "display_data"
    }
   ],
   "source": [
    "# plot the prize money\n",
    "plt.hist(dnd_df['prize'], range = (0, 500))"
   ]
  },
  {
   "cell_type": "code",
   "execution_count": 87,
   "metadata": {
    "collapsed": false
   },
   "outputs": [
    {
     "name": "stdout",
     "output_type": "stream",
     "text": [
      "hi-lo median counts: 13 13\n"
     ]
    }
   ],
   "source": [
    "# count number of prizes above and below the median\n",
    "count_lo = 0\n",
    "count_hi = 0\n",
    "\n",
    "for prize in dnd_df['prize']:\n",
    "    if prize < dnd_median:\n",
    "        count_lo += 1\n",
    "    else:\n",
    "        count_hi += 1\n",
    "        \n",
    "print 'hi-lo median counts:', count_hi, count_lo"
   ]
  },
  {
   "cell_type": "code",
   "execution_count": 98,
   "metadata": {
    "collapsed": false
   },
   "outputs": [
    {
     "data": {
      "text/plain": [
       "131477.53884615382"
      ]
     },
     "execution_count": 98,
     "metadata": {},
     "output_type": "execute_result"
    }
   ],
   "source": [
    "# get the mean for prizes\n",
    "dnd_mean = dnd_df['prize'].mean()\n",
    "dnd_mean"
   ]
  },
  {
   "cell_type": "code",
   "execution_count": 103,
   "metadata": {
    "collapsed": false
   },
   "outputs": [
    {
     "data": {
      "text/plain": [
       "0.23076923076923078"
      ]
     },
     "execution_count": 103,
     "metadata": {},
     "output_type": "execute_result"
    }
   ],
   "source": [
    "count_gt_mean = 0\n",
    "count_prizes = len(dnd_df)\n",
    "\n",
    "for prize in dnd_df['prize']:\n",
    "    if prize > dnd_mean:\n",
    "        count_gt_mean += 1\n",
    "    \n",
    "count_gt_mean / float(count_prizes)"
   ]
  },
  {
   "cell_type": "code",
   "execution_count": null,
   "metadata": {
    "collapsed": true
   },
   "outputs": [],
   "source": []
  }
 ],
 "metadata": {
  "kernelspec": {
   "display_name": "Python [Root]",
   "language": "python",
   "name": "Python [Root]"
  },
  "language_info": {
   "codemirror_mode": {
    "name": "ipython",
    "version": 2
   },
   "file_extension": ".py",
   "mimetype": "text/x-python",
   "name": "python",
   "nbconvert_exporter": "python",
   "pygments_lexer": "ipython2",
   "version": "2.7.12"
  }
 },
 "nbformat": 4,
 "nbformat_minor": 0
}
