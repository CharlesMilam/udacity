{
 "cells": [
  {
   "cell_type": "markdown",
   "metadata": {},
   "source": [
    "Before we get started, a couple of reminders to keep in mind when using iPython notebooks:\n",
    "\n",
    "- Remember that you can see from the left side of a code cell when it was last run if there is a number within the brackets.\n",
    "- When you start a new notebook session, make sure you run all of the cells up to the point where you last left off. Even if the output is still visible from when you ran the cells in your previous session, the kernel starts in a fresh state so you'll need to reload the data, etc. on a new session.\n",
    "- The previous point is useful to keep in mind if your answers do not match what is expected in the lesson's quizzes. Try reloading the data and run all of the processing steps one by one in order to make sure that you are working with the same variables and data that are at each quiz stage.\n",
    "\n",
    "\n",
    "## Load Data from CSVs"
   ]
  },
  {
   "cell_type": "code",
   "execution_count": 1,
   "metadata": {
    "collapsed": true
   },
   "outputs": [],
   "source": [
    "import unicodecsv\n",
    "\n",
    "## Longer version of code (replaced with shorter, equivalent version below)\n",
    "\n",
    "# enrollments = []\n",
    "# f = open('enrollments.csv', 'rb')\n",
    "# reader = unicodecsv.DictReader(f)\n",
    "# for row in reader:\n",
    "#     enrollments.append(row)\n",
    "# f.close()\n",
    "\n",
    "with open('enrollments.csv', 'rb') as f:\n",
    "    reader = unicodecsv.DictReader(f)\n",
    "    enrollments = list(reader)"
   ]
  },
  {
   "cell_type": "code",
   "execution_count": 2,
   "metadata": {
    "collapsed": false
   },
   "outputs": [],
   "source": [
    "# helper functions\n",
    "def read_csv(filename):\n",
    "    with open(filename) as file:\n",
    "        reader = unicodecsv.DictReader(file)\n",
    "        return list(reader)\n"
   ]
  },
  {
   "cell_type": "code",
   "execution_count": 3,
   "metadata": {
    "collapsed": false
   },
   "outputs": [
    {
     "data": {
      "text/plain": [
       "({u'acct': u'0',\n",
       "  u'lessons_completed': u'0.0',\n",
       "  u'num_courses_visited': u'1.0',\n",
       "  u'projects_completed': u'0.0',\n",
       "  u'total_minutes_visited': u'11.6793745',\n",
       "  u'utc_date': u'2015-01-09'},\n",
       " {u'account_key': u'256',\n",
       "  u'assigned_rating': u'UNGRADED',\n",
       "  u'completion_date': u'2015-01-16',\n",
       "  u'creation_date': u'2015-01-14',\n",
       "  u'lesson_key': u'3176718735',\n",
       "  u'processing_state': u'EVALUATED'})"
      ]
     },
     "execution_count": 3,
     "metadata": {},
     "output_type": "execute_result"
    }
   ],
   "source": [
    "#####################################\n",
    "#                 1                 #\n",
    "#####################################\n",
    "\n",
    "## Read in the data from daily_engagement.csv and project_submissions.csv \n",
    "## and store the results in the below variables.\n",
    "## Then look at the first row of each table.\n",
    "\n",
    "# with open('daily_engagement.csv') as file1:\n",
    "#     reader = unicodecsv.DictReader(file1)\n",
    "#     daily_engagement = list(reader)\n",
    "    \n",
    "# with open('project_submissions.csv') as file2:\n",
    "#     reader = unicodecsv.DictReader(file2)\n",
    "#     project_submissions = list(reader)\n",
    "    \n",
    "daily_engagement = read_csv('daily_engagement.csv')\n",
    "project_submissions = read_csv('project_submissions.csv')\n",
    "    \n",
    "daily_engagement[0], project_submissions[0]"
   ]
  },
  {
   "cell_type": "markdown",
   "metadata": {},
   "source": [
    "## Fixing Data Types"
   ]
  },
  {
   "cell_type": "code",
   "execution_count": 4,
   "metadata": {
    "collapsed": false
   },
   "outputs": [
    {
     "data": {
      "text/plain": [
       "{u'account_key': u'448',\n",
       " u'cancel_date': datetime.datetime(2015, 1, 14, 0, 0),\n",
       " u'days_to_cancel': 65,\n",
       " u'is_canceled': True,\n",
       " u'is_udacity': True,\n",
       " u'join_date': datetime.datetime(2014, 11, 10, 0, 0),\n",
       " u'status': u'canceled'}"
      ]
     },
     "execution_count": 4,
     "metadata": {},
     "output_type": "execute_result"
    }
   ],
   "source": [
    "from datetime import datetime as dt\n",
    "\n",
    "# Takes a date as a string, and returns a Python datetime object. \n",
    "# If there is no date given, returns None\n",
    "def parse_date(date):\n",
    "    if date == '':\n",
    "        return None\n",
    "    else:\n",
    "        return dt.strptime(date, '%Y-%m-%d')\n",
    "    \n",
    "# Takes a string which is either an empty string or represents an integer,\n",
    "# and returns an int or None.\n",
    "def parse_maybe_int(i):\n",
    "    if i == '':\n",
    "        return None\n",
    "    else:\n",
    "        return int(i)\n",
    "\n",
    "# Clean up the data types in the enrollments table\n",
    "for enrollment in enrollments:\n",
    "    enrollment['cancel_date'] = parse_date(enrollment['cancel_date'])\n",
    "    enrollment['days_to_cancel'] = parse_maybe_int(enrollment['days_to_cancel'])\n",
    "    enrollment['is_canceled'] = enrollment['is_canceled'] == 'True'\n",
    "    enrollment['is_udacity'] = enrollment['is_udacity'] == 'True'\n",
    "    enrollment['join_date'] = parse_date(enrollment['join_date'])\n",
    "    \n",
    "enrollments[0]"
   ]
  },
  {
   "cell_type": "code",
   "execution_count": 5,
   "metadata": {
    "collapsed": false
   },
   "outputs": [
    {
     "data": {
      "text/plain": [
       "{u'acct': u'0',\n",
       " u'lessons_completed': 0,\n",
       " u'num_courses_visited': 1,\n",
       " u'projects_completed': 0,\n",
       " u'total_minutes_visited': 11.6793745,\n",
       " u'utc_date': datetime.datetime(2015, 1, 9, 0, 0)}"
      ]
     },
     "execution_count": 5,
     "metadata": {},
     "output_type": "execute_result"
    }
   ],
   "source": [
    "# Clean up the data types in the engagement table\n",
    "for engagement_record in daily_engagement:\n",
    "    engagement_record['lessons_completed'] = int(float(engagement_record['lessons_completed']))\n",
    "    engagement_record['num_courses_visited'] = int(float(engagement_record['num_courses_visited']))\n",
    "    engagement_record['projects_completed'] = int(float(engagement_record['projects_completed']))\n",
    "    engagement_record['total_minutes_visited'] = float(engagement_record['total_minutes_visited'])\n",
    "    engagement_record['utc_date'] = parse_date(engagement_record['utc_date'])\n",
    "    \n",
    "daily_engagement[0]"
   ]
  },
  {
   "cell_type": "code",
   "execution_count": 6,
   "metadata": {
    "collapsed": false
   },
   "outputs": [
    {
     "data": {
      "text/plain": [
       "{u'account_key': u'256',\n",
       " u'assigned_rating': u'UNGRADED',\n",
       " u'completion_date': datetime.datetime(2015, 1, 16, 0, 0),\n",
       " u'creation_date': datetime.datetime(2015, 1, 14, 0, 0),\n",
       " u'lesson_key': u'3176718735',\n",
       " u'processing_state': u'EVALUATED'}"
      ]
     },
     "execution_count": 6,
     "metadata": {},
     "output_type": "execute_result"
    }
   ],
   "source": [
    "# Clean up the data types in the submissions table\n",
    "for submission in project_submissions:\n",
    "    submission['completion_date'] = parse_date(submission['completion_date'])\n",
    "    submission['creation_date'] = parse_date(submission['creation_date'])\n",
    "\n",
    "project_submissions[0]"
   ]
  },
  {
   "cell_type": "markdown",
   "metadata": {},
   "source": [
    "Note when running the above cells that we are actively changing the contents of our data variables. If you try to run these cells multiple times in the same session, an error will occur.\n",
    "\n",
    "## Investigating the Data"
   ]
  },
  {
   "cell_type": "code",
   "execution_count": 7,
   "metadata": {
    "collapsed": false
   },
   "outputs": [
    {
     "data": {
      "text/plain": [
       "(1640, 1302, 136240, 1237, 3642, 743)"
      ]
     },
     "execution_count": 7,
     "metadata": {},
     "output_type": "execute_result"
    }
   ],
   "source": [
    "#####################################\n",
    "#                 2                 #\n",
    "#####################################\n",
    "\n",
    "## Find the total number of rows and the number of unique students (account keys)\n",
    "## in each table.\n",
    "num_rows_enrollments = len(enrollments)\n",
    "unique_enrollments = set()\n",
    "for enrollment in enrollments:\n",
    "    unique_enrollments.add(enrollment['account_key'])\n",
    "num_unique_enrollments = len(unique_enrollments)\n",
    "\n",
    "num_rows_engagements = len(daily_engagement)\n",
    "unique_engagements = set()\n",
    "for engagement in daily_engagement:\n",
    "    unique_engagements.add(engagement['acct'])\n",
    "num_unique_engagements = len(unique_engagements)\n",
    "\n",
    "num_rows_proj_subs = len(project_submissions)\n",
    "unique_subs = set()\n",
    "for sub in project_submissions:\n",
    "    unique_subs.add(sub['account_key'])\n",
    "num_unique_subs = len(unique_subs)\n",
    "\n",
    "num_rows_enrollments, num_unique_enrollments, num_rows_engagements, num_unique_engagements, num_rows_proj_subs, num_unique_subs"
   ]
  },
  {
   "cell_type": "markdown",
   "metadata": {},
   "source": [
    "## Problems in the Data"
   ]
  },
  {
   "cell_type": "code",
   "execution_count": 8,
   "metadata": {
    "collapsed": false
   },
   "outputs": [
    {
     "name": "stdout",
     "output_type": "stream",
     "text": [
      "{u'lessons_completed': 0, u'num_courses_visited': 1, u'total_minutes_visited': 11.6793745, u'projects_completed': 0, u'acct': u'0', u'utc_date': datetime.datetime(2015, 1, 9, 0, 0)}\n"
     ]
    }
   ],
   "source": [
    "#####################################\n",
    "#                 3                 #\n",
    "#####################################\n",
    "\n",
    "## Rename the \"acct\" column in the daily_engagement table to \"account_key\".\n",
    "print daily_engagement[0]\n",
    "for engagement in daily_engagement:\n",
    "    engagement['account_key'] = engagement.pop('acct')\n"
   ]
  },
  {
   "cell_type": "code",
   "execution_count": 9,
   "metadata": {
    "collapsed": false
   },
   "outputs": [
    {
     "data": {
      "text/plain": [
       "{'account_key': u'0',\n",
       " u'lessons_completed': 1,\n",
       " u'num_courses_visited': 1,\n",
       " u'projects_completed': 0,\n",
       " u'total_minutes_visited': 151.617576833,\n",
       " u'utc_date': datetime.datetime(2015, 1, 14, 0, 0)}"
      ]
     },
     "execution_count": 9,
     "metadata": {},
     "output_type": "execute_result"
    }
   ],
   "source": [
    "daily_engagement[0]['account_key']\n",
    "daily_engagement[5]"
   ]
  },
  {
   "cell_type": "markdown",
   "metadata": {},
   "source": [
    "## Missing Engagement Records"
   ]
  },
  {
   "cell_type": "code",
   "execution_count": 10,
   "metadata": {
    "collapsed": false
   },
   "outputs": [
    {
     "name": "stdout",
     "output_type": "stream",
     "text": [
      "{u'status': u'canceled', u'is_udacity': False, u'is_canceled': True, u'join_date': datetime.datetime(2014, 11, 12, 0, 0), u'account_key': u'1219', u'cancel_date': datetime.datetime(2014, 11, 12, 0, 0), u'days_to_cancel': 0}\n"
     ]
    }
   ],
   "source": [
    "#####################################\n",
    "#                 4                 #\n",
    "#####################################\n",
    "\n",
    "## Find any one student enrollments where the student is missing from the daily engagement table.\n",
    "## Output that enrollment.\n",
    "for enrollment in enrollments:\n",
    "    student = enrollment['account_key']\n",
    "    if student not in unique_engagements:\n",
    "        print enrollment\n",
    "        break"
   ]
  },
  {
   "cell_type": "markdown",
   "metadata": {},
   "source": [
    "## Checking for More Problem Records"
   ]
  },
  {
   "cell_type": "code",
   "execution_count": 11,
   "metadata": {
    "collapsed": false
   },
   "outputs": [
    {
     "data": {
      "text/plain": [
       "3"
      ]
     },
     "execution_count": 11,
     "metadata": {},
     "output_type": "execute_result"
    }
   ],
   "source": [
    "#####################################\n",
    "#                 5                 #\n",
    "#####################################\n",
    "\n",
    "## Find the number of surprising data points (enrollments missing from\n",
    "## the engagement table) that remain, if any.\n",
    "count = 0\n",
    "\n",
    "for enrollment in enrollments:\n",
    "    student = enrollment['account_key']\n",
    "    if student not in unique_engagements and (enrollment['days_to_cancel'] > 0 or enrollment['days_to_cancel'] == None):\n",
    "        count += 1\n",
    "        \n",
    "count"
   ]
  },
  {
   "cell_type": "markdown",
   "metadata": {},
   "source": [
    "## Tracking Down the Remaining Problems"
   ]
  },
  {
   "cell_type": "code",
   "execution_count": 12,
   "metadata": {
    "collapsed": false
   },
   "outputs": [
    {
     "data": {
      "text/plain": [
       "6"
      ]
     },
     "execution_count": 12,
     "metadata": {},
     "output_type": "execute_result"
    }
   ],
   "source": [
    "# Create a set of the account keys for all Udacity test accounts\n",
    "udacity_test_accounts = set()\n",
    "for enrollment in enrollments:\n",
    "    if enrollment['is_udacity']:\n",
    "        udacity_test_accounts.add(enrollment['account_key'])\n",
    "len(udacity_test_accounts)"
   ]
  },
  {
   "cell_type": "code",
   "execution_count": 13,
   "metadata": {
    "collapsed": true
   },
   "outputs": [],
   "source": [
    "# Given some data with an account_key field, removes any records corresponding to Udacity test accounts\n",
    "def remove_udacity_accounts(data):\n",
    "    non_udacity_data = []\n",
    "    for data_point in data:\n",
    "        if data_point['account_key'] not in udacity_test_accounts:\n",
    "            non_udacity_data.append(data_point)\n",
    "    return non_udacity_data"
   ]
  },
  {
   "cell_type": "code",
   "execution_count": 14,
   "metadata": {
    "collapsed": false
   },
   "outputs": [
    {
     "name": "stdout",
     "output_type": "stream",
     "text": [
      "1622\n",
      "135656\n",
      "3634\n"
     ]
    }
   ],
   "source": [
    "# Remove Udacity test accounts from all three tables\n",
    "non_udacity_enrollments = remove_udacity_accounts(enrollments)\n",
    "non_udacity_engagement = remove_udacity_accounts(daily_engagement)\n",
    "non_udacity_submissions = remove_udacity_accounts(project_submissions)\n",
    "\n",
    "print len(non_udacity_enrollments)\n",
    "print len(non_udacity_engagement)\n",
    "print len(non_udacity_submissions)"
   ]
  },
  {
   "cell_type": "markdown",
   "metadata": {},
   "source": [
    "## Refining the Question"
   ]
  },
  {
   "cell_type": "code",
   "execution_count": 41,
   "metadata": {
    "collapsed": false
   },
   "outputs": [
    {
     "data": {
      "text/plain": [
       "995"
      ]
     },
     "execution_count": 41,
     "metadata": {},
     "output_type": "execute_result"
    }
   ],
   "source": [
    "#####################################\n",
    "#                 6                 #\n",
    "#####################################\n",
    "\n",
    "## Create a dictionary named paid_students containing all students who either\n",
    "## haven't canceled yet or who remained enrolled for more than 7 days. The keys\n",
    "## should be account keys, and the values should be the date the student enrolled.\n",
    "\n",
    "paid_students = {}\n",
    "\n",
    "for enrollment in non_udacity_enrollments:\n",
    "    if not enrollment['is_canceled'] or enrollment['days_to_cancel'] > 7:\n",
    "        acct = enrollment['account_key']\n",
    "        enroll_date = enrollment['join_date']\n",
    "        \n",
    "        if (acct not in paid_students or enroll_date > paid_students[acct]):\n",
    "            paid_students[acct] = enroll_date\n",
    "        \n",
    "len(paid_students)"
   ]
  },
  {
   "cell_type": "markdown",
   "metadata": {},
   "source": [
    "## Getting Data from First Week"
   ]
  },
  {
   "cell_type": "code",
   "execution_count": 48,
   "metadata": {
    "collapsed": true
   },
   "outputs": [],
   "source": [
    "# Takes a student's join date and the date of a specific engagement record,\n",
    "# and returns True if that engagement record happened within one week\n",
    "# of the student joining.\n",
    "def within_one_week(join_date, engagement_date):\n",
    "    time_delta = engagement_date - join_date\n",
    "    return time_delta.days >= 0 and time_delta.days < 7"
   ]
  },
  {
   "cell_type": "code",
   "execution_count": 49,
   "metadata": {
    "collapsed": false
   },
   "outputs": [
    {
     "data": {
      "text/plain": [
       "6919"
      ]
     },
     "execution_count": 49,
     "metadata": {},
     "output_type": "execute_result"
    }
   ],
   "source": [
    "#####################################\n",
    "#                 7                 #\n",
    "#####################################\n",
    "\n",
    "## Create a list of rows from the engagement table including only rows where\n",
    "## the student is one of the paid students you just found, and the date is within\n",
    "## one week of the student's join date.\n",
    "\n",
    "paid_engagement_in_first_week = []\n",
    "\n",
    "for engagement in non_udacity_engagement:\n",
    "    acct = engagement['account_key']\n",
    "    if acct in paid_students:\n",
    "        join_date = paid_students[acct]\n",
    "        engage_date = engagement['utc_date']\n",
    "\n",
    "        if within_one_week(join_date, engage_date):\n",
    "            paid_engagement_in_first_week.append(engagement)\n",
    "        \n",
    "len(paid_engagement_in_first_week)"
   ]
  },
  {
   "cell_type": "markdown",
   "metadata": {},
   "source": [
    "## Exploring Student Engagement"
   ]
  },
  {
   "cell_type": "code",
   "execution_count": 50,
   "metadata": {
    "collapsed": true
   },
   "outputs": [],
   "source": [
    "from collections import defaultdict\n",
    "\n",
    "# Create a dictionary of engagement grouped by student.\n",
    "# The keys are account keys, and the values are lists of engagement records.\n",
    "engagement_by_account = defaultdict(list)\n",
    "for engagement_record in paid_engagement_in_first_week:\n",
    "    account_key = engagement_record['account_key']\n",
    "    engagement_by_account[account_key].append(engagement_record)"
   ]
  },
  {
   "cell_type": "code",
   "execution_count": 51,
   "metadata": {
    "collapsed": true
   },
   "outputs": [],
   "source": [
    "# Create a dictionary with the total minutes each student spent in the classroom during the first week.\n",
    "# The keys are account keys, and the values are numbers (total minutes)\n",
    "total_minutes_by_account = {}\n",
    "for account_key, engagement_for_student in engagement_by_account.items():\n",
    "    total_minutes = 0\n",
    "    for engagement_record in engagement_for_student:\n",
    "        total_minutes += engagement_record['total_minutes_visited']\n",
    "    total_minutes_by_account[account_key] = total_minutes"
   ]
  },
  {
   "cell_type": "code",
   "execution_count": 52,
   "metadata": {
    "collapsed": false
   },
   "outputs": [
    {
     "name": "stdout",
     "output_type": "stream",
     "text": [
      "Mean: 306.708326753\n",
      "Standard deviation: 412.996933409\n",
      "Minimum: 0.0\n",
      "Maximum: 3564.7332645\n"
     ]
    }
   ],
   "source": [
    "import numpy as np\n",
    "\n",
    "# Summarize the data about minutes spent in the classroom\n",
    "total_minutes = total_minutes_by_account.values()\n",
    "print 'Mean:', np.mean(total_minutes)\n",
    "print 'Standard deviation:', np.std(total_minutes)\n",
    "print 'Minimum:', np.min(total_minutes)\n",
    "print 'Maximum:', np.max(total_minutes)"
   ]
  },
  {
   "cell_type": "markdown",
   "metadata": {},
   "source": [
    "## Debugging Data Analysis Code"
   ]
  },
  {
   "cell_type": "code",
   "execution_count": 53,
   "metadata": {
    "collapsed": true
   },
   "outputs": [
    {
     "name": "stdout",
     "output_type": "stream",
     "text": [
      "{u'lessons_completed': 4, u'num_courses_visited': 4, u'total_minutes_visited': 850.519339666, u'projects_completed': 0, 'account_key': u'163', u'utc_date': datetime.datetime(2015, 7, 9, 0, 0)}\n",
      "{u'lessons_completed': 6, u'num_courses_visited': 6, u'total_minutes_visited': 872.633923334, u'projects_completed': 0, 'account_key': u'163', u'utc_date': datetime.datetime(2015, 7, 10, 0, 0)}\n",
      "{u'lessons_completed': 6, u'num_courses_visited': 2, u'total_minutes_visited': 777.018903666, u'projects_completed': 0, 'account_key': u'163', u'utc_date': datetime.datetime(2015, 7, 11, 0, 0)}\n",
      "{u'lessons_completed': 2, u'num_courses_visited': 1, u'total_minutes_visited': 294.568774, u'projects_completed': 0, 'account_key': u'163', u'utc_date': datetime.datetime(2015, 7, 12, 0, 0)}\n",
      "{u'lessons_completed': 1, u'num_courses_visited': 3, u'total_minutes_visited': 471.2139785, u'projects_completed': 0, 'account_key': u'163', u'utc_date': datetime.datetime(2015, 7, 13, 0, 0)}\n",
      "{u'lessons_completed': 1, u'num_courses_visited': 2, u'total_minutes_visited': 298.778345333, u'projects_completed': 0, 'account_key': u'163', u'utc_date': datetime.datetime(2015, 7, 14, 0, 0)}\n",
      "{u'lessons_completed': 0, u'num_courses_visited': 0, u'total_minutes_visited': 0.0, u'projects_completed': 0, 'account_key': u'163', u'utc_date': datetime.datetime(2015, 7, 15, 0, 0)}\n"
     ]
    }
   ],
   "source": [
    "#####################################\n",
    "#                 8                 #\n",
    "#####################################\n",
    "\n",
    "## Go through a similar process as before to see if there is a problem.\n",
    "## Locate at least one surprising piece of data, output it, and take a look at it.\n",
    "student_with_max_minutes = None\n",
    "max_minutes = 0\n",
    "\n",
    "for student, total_minutes in total_minutes_by_account.items():\n",
    "    if total_minutes > max_minutes:\n",
    "        max_minutes = total_minutes\n",
    "        student_with_max_minutes = student\n",
    "\n",
    "max_minutes\n",
    "\n",
    "for engagement_record in paid_engagement_in_first_week:\n",
    "    if engagement_record['account_key'] == student_with_max_minutes:\n",
    "        print engagement_record"
   ]
  },
  {
   "cell_type": "markdown",
   "metadata": {},
   "source": [
    "## Lessons Completed in First Week"
   ]
  },
  {
   "cell_type": "code",
   "execution_count": 54,
   "metadata": {
    "collapsed": true
   },
   "outputs": [],
   "source": [
    "#####################################\n",
    "#                 9                 #\n",
    "#####################################\n",
    "\n",
    "## Adapt the code above to find the mean, standard deviation, minimum, and maximum for\n",
    "## the number of lessons completed by each student during the first week. Try creating\n",
    "## one or more functions to re-use the code above.\n",
    "# Create a dictionary with the total minutes each student spent in the classroom during the first week.\n",
    "# The keys are account keys, and the values are numbers (total minutes)\n",
    "\n",
    "def total_acct_lessons(dict):\n",
    "    total_minutes = 0\n",
    "    for engagement_record in engagement_for_student:\n",
    "        total_minutes += engagement_record['lessons_completed']\n",
    "    return total_minutes\n",
    "\n",
    "total_lessons_by_account = {}\n",
    "for account_key, engagement_for_student in engagement_by_account.items():\n",
    "    total_lessons_by_account[account_key] = total_acct_lessons(engagement_for_student)"
   ]
  },
  {
   "cell_type": "code",
   "execution_count": 55,
   "metadata": {
    "collapsed": false
   },
   "outputs": [
    {
     "name": "stdout",
     "output_type": "stream",
     "text": [
      "Mean: 1.63618090452\n",
      "Standard deviation: 3.00256129983\n",
      "Minimum: 0\n",
      "Maximum: 36\n"
     ]
    }
   ],
   "source": [
    "# Summarize the data about lessons completed\n",
    "total_lessons = total_lessons_by_account.values()\n",
    "print 'Mean:', np.mean(total_lessons)\n",
    "print 'Standard deviation:', np.std(total_lessons)\n",
    "print 'Minimum:', np.min(total_lessons)\n",
    "print 'Maximum:', np.max(total_lessons)"
   ]
  },
  {
   "cell_type": "markdown",
   "metadata": {},
   "source": [
    "## Number of Visits in First Week"
   ]
  },
  {
   "cell_type": "code",
   "execution_count": 59,
   "metadata": {
    "collapsed": false
   },
   "outputs": [],
   "source": [
    "######################################\n",
    "#                 10                 #\n",
    "######################################\n",
    "\n",
    "## Find the mean, standard deviation, minimum, and maximum for the number of\n",
    "## days each student visits the classroom during the first week.\n",
    "\n",
    "for engagement in paid_engagement_in_first_week:\n",
    "    if engagement['num_courses_visited']:\n",
    "        engagement['has_visited'] = 1\n",
    "    else:\n",
    "        engagement['has_visited'] = 0"
   ]
  },
  {
   "cell_type": "code",
   "execution_count": 82,
   "metadata": {
    "collapsed": false
   },
   "outputs": [],
   "source": [
    "total_visits_by_account = {}\n",
    "\n",
    "for engagement_for_student in paid_engagement_in_first_week:\n",
    "    acct = engagement_for_student['account_key']\n",
    "    if acct in total_visits_by_account:\n",
    "        total_visits_by_account[acct] += engagement_for_student['has_visited']\n",
    "    else:\n",
    "        total_visits_by_account[acct] = engagement_for_student['has_visited']\n"
   ]
  },
  {
   "cell_type": "code",
   "execution_count": 85,
   "metadata": {
    "collapsed": false
   },
   "outputs": [
    {
     "name": "stdout",
     "output_type": "stream",
     "text": [
      "Mean: 2.86733668342\n",
      "Standard deviation: 2.25519800292\n",
      "Minimum: 0\n",
      "Maximum: 7\n"
     ]
    }
   ],
   "source": [
    "# Summarize the data about total visits\n",
    "total_visits = total_visits_by_account.values()\n",
    "print 'Mean:', np.mean(total_visits)\n",
    "print 'Standard deviation:', np.std(total_visits)\n",
    "print 'Minimum:', np.min(total_visits)\n",
    "print 'Maximum:', np.max(total_visits)"
   ]
  },
  {
   "cell_type": "markdown",
   "metadata": {},
   "source": [
    "## Splitting out Passing Students"
   ]
  },
  {
   "cell_type": "code",
   "execution_count": 94,
   "metadata": {
    "collapsed": false
   },
   "outputs": [],
   "source": [
    "######################################\n",
    "#                 11                 #\n",
    "######################################\n",
    "\n",
    "## Create two lists of engagement data for paid students in the first week.\n",
    "## The first list should contain data for students who eventually pass the\n",
    "## subway project, and the second list should contain data for students\n",
    "## who do not.\n",
    "\n",
    "passing_engagement = []\n",
    "non_passing_engagement = []\n",
    "\n",
    "subway_project_lesson_keys = ['746169184', '3176718735']\n",
    "passed = ['PASSED', 'DISTINCTION']\n",
    "passed_submissions = set()\n",
    "\n",
    "for submission in non_udacity_submissions:\n",
    "    acct = submission['account_key']\n",
    "    proj = submission['lesson_key']\n",
    "    rating = submission['assigned_rating']\n",
    "    \n",
    "    if (proj in subway_project_lesson_keys) and (rating in passed):\n",
    "        passed_submissions.add(acct)\n",
    "    \n",
    "for engagement in paid_engagement_in_first_week:\n",
    "    if engagement['account_key'] in passed_submissions:\n",
    "        passing_engagement.append(engagement['account_key'])\n",
    "    else:\n",
    "        non_passing_engagement.append(engagement['account_key'])\n",
    "    \n",
    "    \n"
   ]
  },
  {
   "cell_type": "code",
   "execution_count": 95,
   "metadata": {
    "collapsed": false
   },
   "outputs": [
    {
     "name": "stdout",
     "output_type": "stream",
     "text": [
      "passing 4527\n",
      "non_passing 2392\n"
     ]
    }
   ],
   "source": [
    "print 'passing', len(passing_engagement)\n",
    "print 'non_passing', len(non_passing_engagement)"
   ]
  },
  {
   "cell_type": "markdown",
   "metadata": {},
   "source": [
    "## Comparing the Two Student Groups"
   ]
  },
  {
   "cell_type": "code",
   "execution_count": 103,
   "metadata": {
    "collapsed": true
   },
   "outputs": [
    {
     "data": {
      "text/plain": [
       "{u'0',\n",
       " u'1',\n",
       " u'10',\n",
       " u'100',\n",
       " u'101',\n",
       " u'102',\n",
       " u'103',\n",
       " u'104',\n",
       " u'105',\n",
       " u'106',\n",
       " u'107',\n",
       " u'108',\n",
       " u'109',\n",
       " u'11',\n",
       " u'110',\n",
       " u'111',\n",
       " u'112',\n",
       " u'113',\n",
       " u'114',\n",
       " u'115',\n",
       " u'116',\n",
       " u'117',\n",
       " u'118',\n",
       " u'119',\n",
       " u'12',\n",
       " u'120',\n",
       " u'121',\n",
       " u'122',\n",
       " u'123',\n",
       " u'124',\n",
       " u'125',\n",
       " u'126',\n",
       " u'127',\n",
       " u'128',\n",
       " u'129',\n",
       " u'13',\n",
       " u'130',\n",
       " u'131',\n",
       " u'132',\n",
       " u'133',\n",
       " u'134',\n",
       " u'135',\n",
       " u'136',\n",
       " u'137',\n",
       " u'138',\n",
       " u'139',\n",
       " u'14',\n",
       " u'140',\n",
       " u'141',\n",
       " u'142',\n",
       " u'143',\n",
       " u'144',\n",
       " u'145',\n",
       " u'146',\n",
       " u'147',\n",
       " u'148',\n",
       " u'149',\n",
       " u'15',\n",
       " u'150',\n",
       " u'151',\n",
       " u'152',\n",
       " u'153',\n",
       " u'154',\n",
       " u'155',\n",
       " u'156',\n",
       " u'157',\n",
       " u'158',\n",
       " u'159',\n",
       " u'16',\n",
       " u'160',\n",
       " u'161',\n",
       " u'162',\n",
       " u'163',\n",
       " u'164',\n",
       " u'165',\n",
       " u'166',\n",
       " u'167',\n",
       " u'168',\n",
       " u'169',\n",
       " u'17',\n",
       " u'170',\n",
       " u'171',\n",
       " u'172',\n",
       " u'173',\n",
       " u'174',\n",
       " u'175',\n",
       " u'176',\n",
       " u'177',\n",
       " u'178',\n",
       " u'179',\n",
       " u'18',\n",
       " u'180',\n",
       " u'181',\n",
       " u'182',\n",
       " u'183',\n",
       " u'184',\n",
       " u'185',\n",
       " u'186',\n",
       " u'187',\n",
       " u'188',\n",
       " u'189',\n",
       " u'19',\n",
       " u'190',\n",
       " u'191',\n",
       " u'192',\n",
       " u'193',\n",
       " u'194',\n",
       " u'195',\n",
       " u'196',\n",
       " u'197',\n",
       " u'198',\n",
       " u'199',\n",
       " u'2',\n",
       " u'20',\n",
       " u'200',\n",
       " u'201',\n",
       " u'202',\n",
       " u'203',\n",
       " u'204',\n",
       " u'205',\n",
       " u'206',\n",
       " u'207',\n",
       " u'208',\n",
       " u'209',\n",
       " u'21',\n",
       " u'210',\n",
       " u'211',\n",
       " u'212',\n",
       " u'213',\n",
       " u'214',\n",
       " u'215',\n",
       " u'216',\n",
       " u'217',\n",
       " u'218',\n",
       " u'219',\n",
       " u'22',\n",
       " u'220',\n",
       " u'221',\n",
       " u'222',\n",
       " u'223',\n",
       " u'224',\n",
       " u'225',\n",
       " u'226',\n",
       " u'227',\n",
       " u'228',\n",
       " u'229',\n",
       " u'23',\n",
       " u'230',\n",
       " u'231',\n",
       " u'232',\n",
       " u'233',\n",
       " u'234',\n",
       " u'235',\n",
       " u'236',\n",
       " u'237',\n",
       " u'238',\n",
       " u'239',\n",
       " u'24',\n",
       " u'240',\n",
       " u'241',\n",
       " u'242',\n",
       " u'243',\n",
       " u'244',\n",
       " u'245',\n",
       " u'246',\n",
       " u'248',\n",
       " u'249',\n",
       " u'25',\n",
       " u'250',\n",
       " u'251',\n",
       " u'252',\n",
       " u'253',\n",
       " u'254',\n",
       " u'255',\n",
       " u'256',\n",
       " u'257',\n",
       " u'258',\n",
       " u'259',\n",
       " u'26',\n",
       " u'260',\n",
       " u'261',\n",
       " u'262',\n",
       " u'263',\n",
       " u'264',\n",
       " u'265',\n",
       " u'266',\n",
       " u'267',\n",
       " u'268',\n",
       " u'269',\n",
       " u'27',\n",
       " u'270',\n",
       " u'271',\n",
       " u'272',\n",
       " u'273',\n",
       " u'274',\n",
       " u'275',\n",
       " u'276',\n",
       " u'277',\n",
       " u'278',\n",
       " u'279',\n",
       " u'28',\n",
       " u'280',\n",
       " u'281',\n",
       " u'282',\n",
       " u'283',\n",
       " u'284',\n",
       " u'285',\n",
       " u'286',\n",
       " u'287',\n",
       " u'288',\n",
       " u'289',\n",
       " u'29',\n",
       " u'290',\n",
       " u'291',\n",
       " u'292',\n",
       " u'293',\n",
       " u'294',\n",
       " u'295',\n",
       " u'296',\n",
       " u'297',\n",
       " u'298',\n",
       " u'299',\n",
       " u'3',\n",
       " u'30',\n",
       " u'300',\n",
       " u'301',\n",
       " u'302',\n",
       " u'303',\n",
       " u'304',\n",
       " u'305',\n",
       " u'306',\n",
       " u'307',\n",
       " u'308',\n",
       " u'309',\n",
       " u'31',\n",
       " u'310',\n",
       " u'311',\n",
       " u'313',\n",
       " u'314',\n",
       " u'315',\n",
       " u'316',\n",
       " u'317',\n",
       " u'318',\n",
       " u'319',\n",
       " u'32',\n",
       " u'320',\n",
       " u'321',\n",
       " u'322',\n",
       " u'323',\n",
       " u'324',\n",
       " u'325',\n",
       " u'326',\n",
       " u'327',\n",
       " u'328',\n",
       " u'329',\n",
       " u'33',\n",
       " u'330',\n",
       " u'331',\n",
       " u'332',\n",
       " u'333',\n",
       " u'334',\n",
       " u'335',\n",
       " u'336',\n",
       " u'337',\n",
       " u'338',\n",
       " u'339',\n",
       " u'34',\n",
       " u'340',\n",
       " u'341',\n",
       " u'342',\n",
       " u'343',\n",
       " u'344',\n",
       " u'345',\n",
       " u'346',\n",
       " u'347',\n",
       " u'348',\n",
       " u'349',\n",
       " u'35',\n",
       " u'350',\n",
       " u'351',\n",
       " u'352',\n",
       " u'353',\n",
       " u'354',\n",
       " u'355',\n",
       " u'356',\n",
       " u'357',\n",
       " u'358',\n",
       " u'359',\n",
       " u'36',\n",
       " u'360',\n",
       " u'361',\n",
       " u'362',\n",
       " u'363',\n",
       " u'364',\n",
       " u'365',\n",
       " u'366',\n",
       " u'367',\n",
       " u'368',\n",
       " u'369',\n",
       " u'37',\n",
       " u'370',\n",
       " u'371',\n",
       " u'372',\n",
       " u'373',\n",
       " u'374',\n",
       " u'375',\n",
       " u'376',\n",
       " u'377',\n",
       " u'378',\n",
       " u'379',\n",
       " u'38',\n",
       " u'380',\n",
       " u'381',\n",
       " u'382',\n",
       " u'383',\n",
       " u'384',\n",
       " u'385',\n",
       " u'386',\n",
       " u'387',\n",
       " u'388',\n",
       " u'389',\n",
       " u'39',\n",
       " u'390',\n",
       " u'391',\n",
       " u'392',\n",
       " u'393',\n",
       " u'394',\n",
       " u'395',\n",
       " u'396',\n",
       " u'397',\n",
       " u'398',\n",
       " u'399',\n",
       " u'4',\n",
       " u'40',\n",
       " u'400',\n",
       " u'401',\n",
       " u'402',\n",
       " u'403',\n",
       " u'404',\n",
       " u'405',\n",
       " u'406',\n",
       " u'407',\n",
       " u'408',\n",
       " u'409',\n",
       " u'41',\n",
       " u'410',\n",
       " u'411',\n",
       " u'412',\n",
       " u'413',\n",
       " u'414',\n",
       " u'415',\n",
       " u'416',\n",
       " u'417',\n",
       " u'418',\n",
       " u'419',\n",
       " u'42',\n",
       " u'420',\n",
       " u'421',\n",
       " u'422',\n",
       " u'423',\n",
       " u'424',\n",
       " u'425',\n",
       " u'426',\n",
       " u'427',\n",
       " u'428',\n",
       " u'429',\n",
       " u'43',\n",
       " u'430',\n",
       " u'431',\n",
       " u'432',\n",
       " u'433',\n",
       " u'434',\n",
       " u'435',\n",
       " u'436',\n",
       " u'437',\n",
       " u'438',\n",
       " u'439',\n",
       " u'44',\n",
       " u'440',\n",
       " u'441',\n",
       " u'442',\n",
       " u'443',\n",
       " u'444',\n",
       " u'445',\n",
       " u'446',\n",
       " u'447',\n",
       " u'449',\n",
       " u'45',\n",
       " u'450',\n",
       " u'451',\n",
       " u'452',\n",
       " u'453',\n",
       " u'454',\n",
       " u'455',\n",
       " u'456',\n",
       " u'457',\n",
       " u'458',\n",
       " u'459',\n",
       " u'46',\n",
       " u'460',\n",
       " u'461',\n",
       " u'462',\n",
       " u'463',\n",
       " u'464',\n",
       " u'465',\n",
       " u'466',\n",
       " u'467',\n",
       " u'468',\n",
       " u'469',\n",
       " u'47',\n",
       " u'471',\n",
       " u'472',\n",
       " u'473',\n",
       " u'474',\n",
       " u'475',\n",
       " u'476',\n",
       " u'477',\n",
       " u'478',\n",
       " u'479',\n",
       " u'48',\n",
       " u'480',\n",
       " u'481',\n",
       " u'482',\n",
       " u'483',\n",
       " u'484',\n",
       " u'485',\n",
       " u'486',\n",
       " u'487',\n",
       " u'488',\n",
       " u'489',\n",
       " u'49',\n",
       " u'490',\n",
       " u'491',\n",
       " u'492',\n",
       " u'493',\n",
       " u'494',\n",
       " u'495',\n",
       " u'496',\n",
       " u'497',\n",
       " u'498',\n",
       " u'499',\n",
       " u'5',\n",
       " u'50',\n",
       " u'500',\n",
       " u'501',\n",
       " u'502',\n",
       " u'503',\n",
       " u'504',\n",
       " u'505',\n",
       " u'506',\n",
       " u'507',\n",
       " u'508',\n",
       " u'509',\n",
       " u'51',\n",
       " u'510',\n",
       " u'511',\n",
       " u'512',\n",
       " u'513',\n",
       " u'514',\n",
       " u'515',\n",
       " u'516',\n",
       " u'517',\n",
       " u'518',\n",
       " u'519',\n",
       " u'52',\n",
       " u'520',\n",
       " u'521',\n",
       " u'522',\n",
       " u'523',\n",
       " u'524',\n",
       " u'525',\n",
       " u'526',\n",
       " u'527',\n",
       " u'528',\n",
       " u'529',\n",
       " u'53',\n",
       " u'530',\n",
       " u'531',\n",
       " u'532',\n",
       " u'533',\n",
       " u'534',\n",
       " u'535',\n",
       " u'536',\n",
       " u'537',\n",
       " u'538',\n",
       " u'539',\n",
       " u'54',\n",
       " u'540',\n",
       " u'541',\n",
       " u'542',\n",
       " u'543',\n",
       " u'544',\n",
       " u'545',\n",
       " u'546',\n",
       " u'547',\n",
       " u'548',\n",
       " u'549',\n",
       " u'55',\n",
       " u'550',\n",
       " u'551',\n",
       " u'552',\n",
       " u'553',\n",
       " u'554',\n",
       " u'555',\n",
       " u'556',\n",
       " u'557',\n",
       " u'558',\n",
       " u'559',\n",
       " u'56',\n",
       " u'560',\n",
       " u'561',\n",
       " u'562',\n",
       " u'563',\n",
       " u'564',\n",
       " u'565',\n",
       " u'566',\n",
       " u'567',\n",
       " u'568',\n",
       " u'569',\n",
       " u'57',\n",
       " u'570',\n",
       " u'571',\n",
       " u'572',\n",
       " u'573',\n",
       " u'574',\n",
       " u'575',\n",
       " u'576',\n",
       " u'577',\n",
       " u'578',\n",
       " u'579',\n",
       " u'58',\n",
       " u'580',\n",
       " u'581',\n",
       " u'582',\n",
       " u'583',\n",
       " u'584',\n",
       " u'585',\n",
       " u'586',\n",
       " u'587',\n",
       " u'588',\n",
       " u'589',\n",
       " u'59',\n",
       " u'590',\n",
       " u'591',\n",
       " u'592',\n",
       " u'593',\n",
       " u'594',\n",
       " u'595',\n",
       " u'596',\n",
       " u'597',\n",
       " u'598',\n",
       " u'599',\n",
       " u'6',\n",
       " u'60',\n",
       " u'600',\n",
       " u'601',\n",
       " u'602',\n",
       " u'603',\n",
       " u'604',\n",
       " u'605',\n",
       " u'606',\n",
       " u'607',\n",
       " u'608',\n",
       " u'609',\n",
       " u'61',\n",
       " u'610',\n",
       " u'611',\n",
       " u'612',\n",
       " u'613',\n",
       " u'614',\n",
       " u'615',\n",
       " u'616',\n",
       " u'617',\n",
       " u'618',\n",
       " u'619',\n",
       " u'62',\n",
       " u'620',\n",
       " u'621',\n",
       " u'622',\n",
       " u'623',\n",
       " u'624',\n",
       " u'625',\n",
       " u'626',\n",
       " u'627',\n",
       " u'628',\n",
       " u'629',\n",
       " u'63',\n",
       " u'630',\n",
       " u'631',\n",
       " u'632',\n",
       " u'633',\n",
       " u'634',\n",
       " u'635',\n",
       " u'636',\n",
       " u'637',\n",
       " u'639',\n",
       " u'64',\n",
       " u'640',\n",
       " u'641',\n",
       " u'642',\n",
       " u'643',\n",
       " u'644',\n",
       " u'645',\n",
       " u'646',\n",
       " u'647',\n",
       " u'648',\n",
       " u'649',\n",
       " u'65',\n",
       " u'650',\n",
       " u'651',\n",
       " u'652',\n",
       " u'66',\n",
       " u'67',\n",
       " u'68',\n",
       " u'69',\n",
       " u'7',\n",
       " u'70',\n",
       " u'71',\n",
       " u'72',\n",
       " u'73',\n",
       " u'74',\n",
       " u'75',\n",
       " u'76',\n",
       " u'77',\n",
       " u'78',\n",
       " u'79',\n",
       " u'8',\n",
       " u'80',\n",
       " u'81',\n",
       " u'82',\n",
       " u'83',\n",
       " u'84',\n",
       " u'85',\n",
       " u'86',\n",
       " u'87',\n",
       " u'88',\n",
       " u'89',\n",
       " u'9',\n",
       " u'90',\n",
       " u'91',\n",
       " u'92',\n",
       " u'93',\n",
       " u'94',\n",
       " u'96',\n",
       " u'97',\n",
       " u'98',\n",
       " u'99'}"
      ]
     },
     "execution_count": 103,
     "metadata": {},
     "output_type": "execute_result"
    }
   ],
   "source": [
    "######################################\n",
    "#                 12                 #\n",
    "######################################\n",
    "\n",
    "## Compute some metrics you're interested in and see how they differ for\n",
    "## students who pass the subway project vs. students who don't. A good\n",
    "## starting point would be the metrics we looked at earlier (minutes spent\n",
    "## in the classroom, lessons completed, and days visited).\n",
    "uniq_passing = set()\n",
    "\n",
    "for acct in passing_engagement:\n",
    "    uniq_passing.add(acct)\n"
   ]
  },
  {
   "cell_type": "code",
   "execution_count": 104,
   "metadata": {
    "collapsed": true
   },
   "outputs": [],
   "source": [
    "uniq_non_passing = set()\n",
    "\n",
    "for acct in non_passing_engagement:\n",
    "    uniq_non_passing.add(acct)"
   ]
  },
  {
   "cell_type": "code",
   "execution_count": 108,
   "metadata": {
    "collapsed": false
   },
   "outputs": [],
   "source": [
    "passing_minutes = []\n",
    "passing_lessons = []\n",
    "passing_visits = []\n",
    "\n",
    "for acct in uniq_passing:\n",
    "    passing_minutes.append(total_minutes_by_account[acct])\n",
    "    passing_lessons.append(total_lessons_by_account[acct])\n",
    "    passing_visits.append(total_visits_by_account[acct])"
   ]
  },
  {
   "cell_type": "code",
   "execution_count": 109,
   "metadata": {
    "collapsed": true
   },
   "outputs": [],
   "source": [
    "non_passing_minutes = []\n",
    "non_passing_lessons = []\n",
    "non_passing_visits = []\n",
    "\n",
    "for acct in uniq_non_passing:\n",
    "    non_passing_minutes.append(total_minutes_by_account[acct])\n",
    "    non_passing_lessons.append(total_lessons_by_account[acct])\n",
    "    non_passing_visits.append(total_visits_by_account[acct])"
   ]
  },
  {
   "cell_type": "code",
   "execution_count": 114,
   "metadata": {
    "collapsed": false
   },
   "outputs": [
    {
     "name": "stdout",
     "output_type": "stream",
     "text": [
      "Mean (passing/non-passing): 394.586046484 143.326474267\n",
      "Standard deviation (passing/non-passing): 448.499519327 269.538619011\n",
      "Minimum (passing/non-passing): 0.0 0.0\n",
      "Maximum (passing/non-passing): 3564.7332645 1768.52274933\n"
     ]
    }
   ],
   "source": [
    "# minutes\n",
    "print 'Mean (passing/non-passing):', np.mean(passing_minutes), np.mean(non_passing_minutes)\n",
    "print 'Standard deviation (passing/non-passing):', np.std(passing_minutes), np.std(non_passing_minutes)\n",
    "print 'Minimum (passing/non-passing):', np.min(passing_minutes), np.min(non_passing_minutes)\n",
    "print 'Maximum (passing/non-passing):', np.max(passing_minutes), np.max(non_passing_minutes)"
   ]
  },
  {
   "cell_type": "code",
   "execution_count": 115,
   "metadata": {
    "collapsed": false
   },
   "outputs": [
    {
     "name": "stdout",
     "output_type": "stream",
     "text": [
      "Mean (passing/non-passing): 2.05255023184 0.862068965517\n",
      "Standard deviation (passing/non-passing): 3.14222705558 2.54915994183\n",
      "Minimum (passing/non-passing): 0 0\n",
      "Maximum (passing/non-passing): 36 27\n"
     ]
    }
   ],
   "source": [
    "# lessons\n",
    "print 'Mean (passing/non-passing):', np.mean(passing_lessons), np.mean(non_passing_lessons)\n",
    "print 'Standard deviation (passing/non-passing):', np.std(passing_lessons), np.std(non_passing_lessons)\n",
    "print 'Minimum (passing/non-passing):', np.min(passing_lessons), np.min(non_passing_lessons)\n",
    "print 'Maximum (passing/non-passing):', np.max(passing_lessons), np.max(non_passing_lessons)"
   ]
  },
  {
   "cell_type": "code",
   "execution_count": 116,
   "metadata": {
    "collapsed": false
   },
   "outputs": [
    {
     "name": "stdout",
     "output_type": "stream",
     "text": [
      "Mean (passing/non-passing): 3.38485316847 1.90517241379\n",
      "Standard deviation (passing/non-passing): 2.25882147092 1.90573144136\n",
      "Minimum (passing/non-passing): 0 0\n",
      "Maximum (passing/non-passing): 7 7\n"
     ]
    }
   ],
   "source": [
    "# visits\n",
    "print 'Mean (passing/non-passing):', np.mean(passing_visits), np.mean(non_passing_visits)\n",
    "print 'Standard deviation (passing/non-passing):', np.std(passing_visits), np.std(non_passing_visits)\n",
    "print 'Minimum (passing/non-passing):', np.min(passing_visits), np.min(non_passing_visits)\n",
    "print 'Maximum (passing/non-passing):', np.max(passing_visits), np.max(non_passing_visits)"
   ]
  },
  {
   "cell_type": "markdown",
   "metadata": {},
   "source": [
    "## Making Histograms"
   ]
  },
  {
   "cell_type": "code",
   "execution_count": 123,
   "metadata": {
    "collapsed": false
   },
   "outputs": [
    {
     "data": {
      "text/plain": [
       "<matplotlib.text.Text at 0x7f0b6968de50>"
      ]
     },
     "execution_count": 123,
     "metadata": {},
     "output_type": "execute_result"
    },
    {
     "data": {
      "image/png": "[encoded data removed]",
      "text/plain": [
       "<matplotlib.figure.Figure at 0x7f0b698294d0>"
      ]
     },
     "metadata": {},
     "output_type": "display_data"
    }
   ],
   "source": [
    "######################################\n",
    "#                 13                 #\n",
    "######################################\n",
    "\n",
    "## Make histograms of the three metrics we looked at earlier for both\n",
    "## students who passed the subway project and students who didn't. You\n",
    "## might also want to make histograms of any other metrics you examined.\n",
    "%matplotlib inline\n",
    "import matplotlib.pyplot as plt\n",
    "import seaborn as sns\n",
    "\n",
    "plt.hist(passing_minutes)\n",
    "plt.hist(non_passing_minutes)\n",
    "plt.xlabel('number of minutes per week')\n",
    "plt.ylabel('number of students')\n",
    "plt.title('distribution of time spent for first week - passing students vs. non-passing students')"
   ]
  },
  {
   "cell_type": "code",
   "execution_count": 124,
   "metadata": {
    "collapsed": false
   },
   "outputs": [
    {
     "data": {
      "text/plain": [
       "<matplotlib.text.Text at 0x7f0b6956b450>"
      ]
     },
     "execution_count": 124,
     "metadata": {},
     "output_type": "execute_result"
    },
    {
     "data": {
      "image/png": "[encoded data removed]",
      "text/plain": [
       "<matplotlib.figure.Figure at 0x7f0b6d1367d0>"
      ]
     },
     "metadata": {},
     "output_type": "display_data"
    }
   ],
   "source": [
    "plt.hist(passing_lessons)\n",
    "plt.hist(non_passing_lessons)\n",
    "plt.xlabel('number of lessons completed per week')\n",
    "plt.ylabel('number of students')\n",
    "plt.title('distribution of lessons completed for first week - passing students vs. non-passing students')"
   ]
  },
  {
   "cell_type": "code",
   "execution_count": 126,
   "metadata": {
    "collapsed": false
   },
   "outputs": [
    {
     "data": {
      "text/plain": [
       "<matplotlib.text.Text at 0x7f0b69332490>"
      ]
     },
     "execution_count": 126,
     "metadata": {},
     "output_type": "execute_result"
    },
    {
     "data": {
      "image/png": "[encoded data removed]",
      "text/plain": [
       "<matplotlib.figure.Figure at 0x7f0b695a0b10>"
      ]
     },
     "metadata": {},
     "output_type": "display_data"
    }
   ],
   "source": [
    "plt.hist(passing_visits)\n",
    "plt.hist(non_passing_visits, bins = 8)\n",
    "plt.xlabel('number of visits per week')\n",
    "plt.ylabel('number of students')\n",
    "plt.title('distribution of visits for first week - passing students vs. non-passing students')"
   ]
  },
  {
   "cell_type": "markdown",
   "metadata": {},
   "source": [
    "## Improving Plots and Sharing Findings"
   ]
  },
  {
   "cell_type": "code",
   "execution_count": null,
   "metadata": {
    "collapsed": true
   },
   "outputs": [],
   "source": [
    "######################################\n",
    "#                 14                 #\n",
    "######################################\n",
    "\n",
    "## Make a more polished version of at least one of your visualizations\n",
    "## from earlier. Try importing the seaborn library to make the visualization\n",
    "## look better, adding axis labels and a title, and changing one or more\n",
    "## arguments to the hist() function.\n",
    "\n",
    "print 'see above cells'"
   ]
  }
 ],
 "metadata": {
  "kernelspec": {
   "display_name": "Python [Root]",
   "language": "python",
   "name": "Python [Root]"
  },
  "language_info": {
   "codemirror_mode": {
    "name": "ipython",
    "version": 2
   },
   "file_extension": ".py",
   "mimetype": "text/x-python",
   "name": "python",
   "nbconvert_exporter": "python",
   "pygments_lexer": "ipython2",
   "version": "2.7.12"
  }
 },
 "nbformat": 4,
 "nbformat_minor": 0
}
