{
 "cells": [
  {
   "cell_type": "markdown",
   "metadata": {},
   "source": [
    "# Lesson 5 aka Lesson 11"
   ]
  },
  {
   "cell_type": "code",
   "execution_count": 20,
   "metadata": {
    "collapsed": true
   },
   "outputs": [],
   "source": [
    "import numpy as np\n",
    "import pandas as pd\n",
    "from scipy import stats\n",
    "import matplotlib.pyplot as plt\n",
    "import seaborn as sns\n",
    "\n",
    "%matplotlib inline"
   ]
  },
  {
   "cell_type": "markdown",
   "metadata": {},
   "source": [
    "## Food Prices "
   ]
  },
  {
   "cell_type": "code",
   "execution_count": 7,
   "metadata": {
    "collapsed": true
   },
   "outputs": [],
   "source": [
    "# import in provided data\n",
    "meals_df = pd.read_csv('/home/scruffy/git/udacity/inferStats/lesson5/Food Prices - Lesson 11 - Sheet1.csv')"
   ]
  },
  {
   "cell_type": "code",
   "execution_count": 8,
   "metadata": {
    "collapsed": false
   },
   "outputs": [
    {
     "data": {
      "text/html": [
       "<div>\n",
       "<table border=\"1\" class=\"dataframe\">\n",
       "  <thead>\n",
       "    <tr style=\"text-align: right;\">\n",
       "      <th></th>\n",
       "      <th>Average meal prices at restaurants in Gettysburg ($)</th>\n",
       "      <th>Average meal prices at restaurants in Wilma ($)</th>\n",
       "    </tr>\n",
       "  </thead>\n",
       "  <tbody>\n",
       "    <tr>\n",
       "      <th>count</th>\n",
       "      <td>18.000000</td>\n",
       "      <td>14.000000</td>\n",
       "    </tr>\n",
       "    <tr>\n",
       "      <th>mean</th>\n",
       "      <td>8.944444</td>\n",
       "      <td>11.142857</td>\n",
       "    </tr>\n",
       "    <tr>\n",
       "      <th>std</th>\n",
       "      <td>2.645134</td>\n",
       "      <td>2.178819</td>\n",
       "    </tr>\n",
       "    <tr>\n",
       "      <th>min</th>\n",
       "      <td>5.000000</td>\n",
       "      <td>8.000000</td>\n",
       "    </tr>\n",
       "    <tr>\n",
       "      <th>25%</th>\n",
       "      <td>7.000000</td>\n",
       "      <td>NaN</td>\n",
       "    </tr>\n",
       "    <tr>\n",
       "      <th>50%</th>\n",
       "      <td>9.000000</td>\n",
       "      <td>NaN</td>\n",
       "    </tr>\n",
       "    <tr>\n",
       "      <th>75%</th>\n",
       "      <td>11.000000</td>\n",
       "      <td>NaN</td>\n",
       "    </tr>\n",
       "    <tr>\n",
       "      <th>max</th>\n",
       "      <td>13.000000</td>\n",
       "      <td>15.000000</td>\n",
       "    </tr>\n",
       "  </tbody>\n",
       "</table>\n",
       "</div>"
      ],
      "text/plain": [
       "       Average meal prices at restaurants in Gettysburg ($)  \\\n",
       "count                                          18.000000      \n",
       "mean                                            8.944444      \n",
       "std                                             2.645134      \n",
       "min                                             5.000000      \n",
       "25%                                             7.000000      \n",
       "50%                                             9.000000      \n",
       "75%                                            11.000000      \n",
       "max                                            13.000000      \n",
       "\n",
       "       Average meal prices at restaurants in Wilma ($)  \n",
       "count                                        14.000000  \n",
       "mean                                         11.142857  \n",
       "std                                           2.178819  \n",
       "min                                           8.000000  \n",
       "25%                                                NaN  \n",
       "50%                                                NaN  \n",
       "75%                                                NaN  \n",
       "max                                          15.000000  "
      ]
     },
     "execution_count": 8,
     "metadata": {},
     "output_type": "execute_result"
    }
   ],
   "source": [
    "# quick look at the data\n",
    "meals_df.describe()"
   ]
  },
  {
   "cell_type": "code",
   "execution_count": 11,
   "metadata": {
    "collapsed": false
   },
   "outputs": [],
   "source": [
    "# make the column names easier to deal with\n",
    "meals_df.columns = ['gettys_prices', 'wilma_prices']"
   ]
  },
  {
   "cell_type": "code",
   "execution_count": 45,
   "metadata": {
    "collapsed": false
   },
   "outputs": [],
   "source": [
    "# calculate the numbers for the quizzes\n",
    "gettys_mean = meals_df['gettys_prices'].mean()\n",
    "wilma_mean = meals_df['wilma_prices'].mean()\n",
    "gettys_sd = meals_df['gettys_prices'].std()\n",
    "wilma_sd = meals_df['wilma_prices'].std()\n",
    "gettys_ss = meals_df['gettys_prices'].count()\n",
    "wilma_ss = meals_df['wilma_prices'].count()\n",
    "dof = gettys_ss + wilma_ss - 2\n",
    "se = np.sqrt((gettys_sd**2 / gettys_ss) + (wilma_sd**2 / wilma_ss))\n",
    "t = stats.ttest_ind(meals_df['gettys_prices'], meals_df['wilma_prices'], equal_var = False, nan_policy = 'omit')\n",
    "t_manual = (gettys_mean - wilma_mean) / se\n",
    "t_crit = 2.042"
   ]
  },
  {
   "cell_type": "code",
   "execution_count": 47,
   "metadata": {
    "collapsed": false
   },
   "outputs": [
    {
     "name": "stdout",
     "output_type": "stream",
     "text": [
      "Gettysburg meal prices mean: 8.94\n",
      "Wilma meal prices mean: 11.14\n",
      "Gettysburg SD: 2.65\n",
      "Wilma SD: 2.18\n",
      "SE: 0.85\n",
      "Degrees of freedom: 30.00\n",
      "T statistic/P value: (-2.58, 0.02)\n",
      "T manually derived: -2.58\n",
      "T critical: +/-2.042\n"
     ]
    }
   ],
   "source": [
    "# display the numbers\n",
    "print 'Gettysburg meal prices mean: {:.2f}'.format(gettys_mean)\n",
    "print 'Wilma meal prices mean: {:.2f}'.format(wilma_mean)\n",
    "print 'Gettysburg SD: {:.2f}'.format(gettys_sd)\n",
    "print 'Wilma SD: {:.2f}'.format(wilma_sd)\n",
    "print 'SE: {:.2f}'.format(se)\n",
    "print 'Degrees of freedom: {:.2f}'.format(dof)\n",
    "print 'T statistic/P value: ({:.2f}, {:.2f})'.format(t[0], t[1])\n",
    "print 'T manually derived: {:.2f}'.format(t_manual)\n",
    "print 'T critical: +/-{}'.format(t_crit)"
   ]
  },
  {
   "cell_type": "markdown",
   "metadata": {},
   "source": [
    "## Acne Medication"
   ]
  },
  {
   "cell_type": "code",
   "execution_count": 59,
   "metadata": {
    "collapsed": true
   },
   "outputs": [],
   "source": [
    "xbar_a = 33.5\n",
    "xbar_b = 31.2\n",
    "sd_a = 8.89\n",
    "sd_b = 10.16\n",
    "ss_a = 6.0\n",
    "ss_b = 5.0\n",
    "t = (xbar_a - xbar_b) / np.sqrt(((sd_a**2 / ss_a) + (sd_b**2 / ss_b)))\n",
    "dof = ss_a + ss_b - 2\n",
    "t_crit = 2.062"
   ]
  },
  {
   "cell_type": "code",
   "execution_count": 60,
   "metadata": {
    "collapsed": false
   },
   "outputs": [
    {
     "name": "stdout",
     "output_type": "stream",
     "text": [
      "T stat: 0.40\n",
      "Degrees of freedom: 9.0\n"
     ]
    }
   ],
   "source": [
    "print \"T stat: {:.2f}\".format(t)\n",
    "print 'Degrees of freedom:', dof"
   ]
  },
  {
   "cell_type": "markdown",
   "metadata": {},
   "source": [
    "## Shoes"
   ]
  },
  {
   "cell_type": "code",
   "execution_count": 61,
   "metadata": {
    "collapsed": true
   },
   "outputs": [],
   "source": [
    "# import the data\n",
    "shoes_df = pd.read_csv('/home/scruffy/git/udacity/inferStats/lesson5/Shoes - Lesson 11 - Sheet1.csv')"
   ]
  },
  {
   "cell_type": "code",
   "execution_count": 62,
   "metadata": {
    "collapsed": false
   },
   "outputs": [
    {
     "data": {
      "text/html": [
       "<div>\n",
       "<table border=\"1\" class=\"dataframe\">\n",
       "  <thead>\n",
       "    <tr style=\"text-align: right;\">\n",
       "      <th></th>\n",
       "      <th>Pairs of shoes (females)</th>\n",
       "      <th>Pairs of shoes (males)</th>\n",
       "    </tr>\n",
       "  </thead>\n",
       "  <tbody>\n",
       "    <tr>\n",
       "      <th>count</th>\n",
       "      <td>7.000000</td>\n",
       "      <td>11.000000</td>\n",
       "    </tr>\n",
       "    <tr>\n",
       "      <th>mean</th>\n",
       "      <td>33.142857</td>\n",
       "      <td>18.000000</td>\n",
       "    </tr>\n",
       "    <tr>\n",
       "      <th>std</th>\n",
       "      <td>31.360424</td>\n",
       "      <td>34.272438</td>\n",
       "    </tr>\n",
       "    <tr>\n",
       "      <th>min</th>\n",
       "      <td>5.000000</td>\n",
       "      <td>3.000000</td>\n",
       "    </tr>\n",
       "    <tr>\n",
       "      <th>25%</th>\n",
       "      <td>NaN</td>\n",
       "      <td>4.000000</td>\n",
       "    </tr>\n",
       "    <tr>\n",
       "      <th>50%</th>\n",
       "      <td>NaN</td>\n",
       "      <td>5.000000</td>\n",
       "    </tr>\n",
       "    <tr>\n",
       "      <th>75%</th>\n",
       "      <td>NaN</td>\n",
       "      <td>11.500000</td>\n",
       "    </tr>\n",
       "    <tr>\n",
       "      <th>max</th>\n",
       "      <td>90.000000</td>\n",
       "      <td>120.000000</td>\n",
       "    </tr>\n",
       "  </tbody>\n",
       "</table>\n",
       "</div>"
      ],
      "text/plain": [
       "       Pairs of shoes (females)  Pairs of shoes (males)\n",
       "count                  7.000000               11.000000\n",
       "mean                  33.142857               18.000000\n",
       "std                   31.360424               34.272438\n",
       "min                    5.000000                3.000000\n",
       "25%                         NaN                4.000000\n",
       "50%                         NaN                5.000000\n",
       "75%                         NaN               11.500000\n",
       "max                   90.000000              120.000000"
      ]
     },
     "execution_count": 62,
     "metadata": {},
     "output_type": "execute_result"
    }
   ],
   "source": [
    "# a quick look\n",
    "shoes_df.describe()"
   ]
  },
  {
   "cell_type": "code",
   "execution_count": 63,
   "metadata": {
    "collapsed": true
   },
   "outputs": [],
   "source": [
    "# make columns easier to work with\n",
    "shoes_df.columns = ['shoes_female', 'shoes_male']"
   ]
  },
  {
   "cell_type": "code",
   "execution_count": 64,
   "metadata": {
    "collapsed": true
   },
   "outputs": [],
   "source": [
    "# calc the numbers\n",
    "fshoes_mean = shoes_df['shoes_female'].mean()\n",
    "fshoes_sd = shoes_df['shoes_female'].std()\n",
    "fshoes_ss = shoes_df['shoes_female'].count()\n",
    "mshoes_mean = shoes_df['shoes_male'].mean()\n",
    "mshoes_sd = shoes_df['shoes_male'].std()\n",
    "mshoes_ss = shoes_df['shoes_male'].count()"
   ]
  },
  {
   "cell_type": "code",
   "execution_count": 65,
   "metadata": {
    "collapsed": false
   },
   "outputs": [
    {
     "name": "stdout",
     "output_type": "stream",
     "text": [
      "Female shoes mean: 33.14\n",
      "Female shoes sd: 31.36\n",
      "Female shoes sample size: 7\n",
      "Male shoes mean: 18.00\n",
      "Male shoes sd: 34.27\n",
      "Males shoes sample size: 11\n"
     ]
    }
   ],
   "source": [
    "# display the numbers\n",
    "print 'Female shoes mean: {:.2f}'.format(fshoes_mean)\n",
    "print 'Female shoes sd: {:.2f}'.format(fshoes_sd)\n",
    "print 'Female shoes sample size:', fshoes_ss\n",
    "print 'Male shoes mean: {:.2f}'.format(mshoes_mean)\n",
    "print 'Male shoes sd: {:.2f}'.format(mshoes_sd)\n",
    "print 'Males shoes sample size:', mshoes_ss"
   ]
  },
  {
   "cell_type": "code",
   "execution_count": null,
   "metadata": {
    "collapsed": true
   },
   "outputs": [],
   "source": []
  }
 ],
 "metadata": {
  "kernelspec": {
   "display_name": "Python [Root]",
   "language": "python",
   "name": "Python [Root]"
  },
  "language_info": {
   "codemirror_mode": {
    "name": "ipython",
    "version": 2
   },
   "file_extension": ".py",
   "mimetype": "text/x-python",
   "name": "python",
   "nbconvert_exporter": "python",
   "pygments_lexer": "ipython2",
   "version": "2.7.12"
  }
 },
 "nbformat": 4,
 "nbformat_minor": 0
}
