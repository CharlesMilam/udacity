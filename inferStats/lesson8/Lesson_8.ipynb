{
 "cells": [
  {
   "cell_type": "markdown",
   "metadata": {},
   "source": [
    "# Lesson 8 aka Lesson 14 - Correlations"
   ]
  },
  {
   "cell_type": "code",
   "execution_count": 18,
   "metadata": {
    "collapsed": true
   },
   "outputs": [],
   "source": [
    "import numpy as np\n",
    "import pandas as pd\n",
    "from scipy import stats\n",
    "import matplotlib.pyplot as plt\n",
    "import matplotlib.patches as mpatches\n",
    "import seaborn as sns\n",
    "\n",
    "%matplotlib inline"
   ]
  },
  {
   "cell_type": "markdown",
   "metadata": {},
   "source": [
    "## Scatterplot"
   ]
  },
  {
   "cell_type": "code",
   "execution_count": 4,
   "metadata": {
    "collapsed": false
   },
   "outputs": [
    {
     "name": "stderr",
     "output_type": "stream",
     "text": [
      "/home/scruffy/.local/lib/python2.7/site-packages/numpy/lib/function_base.py:3823: RuntimeWarning: Invalid value encountered in percentile\n",
      "  RuntimeWarning)\n"
     ]
    },
    {
     "data": {
      "text/html": [
       "<div>\n",
       "<table border=\"1\" class=\"dataframe\">\n",
       "  <thead>\n",
       "    <tr style=\"text-align: right;\">\n",
       "      <th></th>\n",
       "      <th>dentist</th>\n",
       "      <th>temp</th>\n",
       "      <th>age</th>\n",
       "      <th>year</th>\n",
       "      <th>pets</th>\n",
       "      <th>eggs</th>\n",
       "      <th>emails</th>\n",
       "      <th>party</th>\n",
       "    </tr>\n",
       "  </thead>\n",
       "  <tbody>\n",
       "    <tr>\n",
       "      <th>count</th>\n",
       "      <td>61.000000</td>\n",
       "      <td>57.000000</td>\n",
       "      <td>61.000000</td>\n",
       "      <td>61.000000</td>\n",
       "      <td>61.000000</td>\n",
       "      <td>61.000000</td>\n",
       "      <td>61.000000</td>\n",
       "      <td>61.000000</td>\n",
       "    </tr>\n",
       "    <tr>\n",
       "      <th>mean</th>\n",
       "      <td>6.426230</td>\n",
       "      <td>17.670175</td>\n",
       "      <td>36.032787</td>\n",
       "      <td>1976.967213</td>\n",
       "      <td>0.786885</td>\n",
       "      <td>8.475410</td>\n",
       "      <td>404.754098</td>\n",
       "      <td>29.278689</td>\n",
       "    </tr>\n",
       "    <tr>\n",
       "      <th>std</th>\n",
       "      <td>4.941184</td>\n",
       "      <td>5.349665</td>\n",
       "      <td>11.694681</td>\n",
       "      <td>11.694681</td>\n",
       "      <td>1.571780</td>\n",
       "      <td>9.206169</td>\n",
       "      <td>1514.990656</td>\n",
       "      <td>34.537000</td>\n",
       "    </tr>\n",
       "    <tr>\n",
       "      <th>min</th>\n",
       "      <td>0.000000</td>\n",
       "      <td>6.000000</td>\n",
       "      <td>15.000000</td>\n",
       "      <td>1944.000000</td>\n",
       "      <td>0.000000</td>\n",
       "      <td>0.000000</td>\n",
       "      <td>0.000000</td>\n",
       "      <td>-30.000000</td>\n",
       "    </tr>\n",
       "    <tr>\n",
       "      <th>25%</th>\n",
       "      <td>3.000000</td>\n",
       "      <td>NaN</td>\n",
       "      <td>27.000000</td>\n",
       "      <td>1971.000000</td>\n",
       "      <td>0.000000</td>\n",
       "      <td>0.000000</td>\n",
       "      <td>0.000000</td>\n",
       "      <td>2.000000</td>\n",
       "    </tr>\n",
       "    <tr>\n",
       "      <th>50%</th>\n",
       "      <td>5.000000</td>\n",
       "      <td>NaN</td>\n",
       "      <td>32.000000</td>\n",
       "      <td>1981.000000</td>\n",
       "      <td>0.000000</td>\n",
       "      <td>6.000000</td>\n",
       "      <td>3.000000</td>\n",
       "      <td>30.000000</td>\n",
       "    </tr>\n",
       "    <tr>\n",
       "      <th>75%</th>\n",
       "      <td>10.000000</td>\n",
       "      <td>NaN</td>\n",
       "      <td>42.000000</td>\n",
       "      <td>1986.000000</td>\n",
       "      <td>1.000000</td>\n",
       "      <td>12.000000</td>\n",
       "      <td>25.000000</td>\n",
       "      <td>60.000000</td>\n",
       "    </tr>\n",
       "    <tr>\n",
       "      <th>max</th>\n",
       "      <td>25.000000</td>\n",
       "      <td>30.000000</td>\n",
       "      <td>69.000000</td>\n",
       "      <td>1998.000000</td>\n",
       "      <td>7.000000</td>\n",
       "      <td>36.000000</td>\n",
       "      <td>8969.000000</td>\n",
       "      <td>180.000000</td>\n",
       "    </tr>\n",
       "  </tbody>\n",
       "</table>\n",
       "</div>"
      ],
      "text/plain": [
       "         dentist       temp        age         year       pets       eggs  \\\n",
       "count  61.000000  57.000000  61.000000    61.000000  61.000000  61.000000   \n",
       "mean    6.426230  17.670175  36.032787  1976.967213   0.786885   8.475410   \n",
       "std     4.941184   5.349665  11.694681    11.694681   1.571780   9.206169   \n",
       "min     0.000000   6.000000  15.000000  1944.000000   0.000000   0.000000   \n",
       "25%     3.000000        NaN  27.000000  1971.000000   0.000000   0.000000   \n",
       "50%     5.000000        NaN  32.000000  1981.000000   0.000000   6.000000   \n",
       "75%    10.000000        NaN  42.000000  1986.000000   1.000000  12.000000   \n",
       "max    25.000000  30.000000  69.000000  1998.000000   7.000000  36.000000   \n",
       "\n",
       "            emails       party  \n",
       "count    61.000000   61.000000  \n",
       "mean    404.754098   29.278689  \n",
       "std    1514.990656   34.537000  \n",
       "min       0.000000  -30.000000  \n",
       "25%       0.000000    2.000000  \n",
       "50%       3.000000   30.000000  \n",
       "75%      25.000000   60.000000  \n",
       "max    8969.000000  180.000000  "
      ]
     },
     "execution_count": 4,
     "metadata": {},
     "output_type": "execute_result"
    }
   ],
   "source": [
    "corrs_df = pd.read_csv('/home/scruffy/git/udacity/inferStats/lesson8/Correlations (Lesson 14) - Sheet1.csv')\n",
    "corrs_df.describe()"
   ]
  },
  {
   "cell_type": "code",
   "execution_count": 5,
   "metadata": {
    "collapsed": true
   },
   "outputs": [],
   "source": [
    "age = corrs_df['age']\n",
    "party = corrs_df['party']\n",
    "pets = corrs_df['pets']"
   ]
  },
  {
   "cell_type": "code",
   "execution_count": 20,
   "metadata": {
    "collapsed": false
   },
   "outputs": [
    {
     "data": {
      "image/png": "[encoded data removed]",
      "text/plain": [
       "<matplotlib.figure.Figure at 0x7fcbe0aba810>"
      ]
     },
     "metadata": {},
     "output_type": "display_data"
    }
   ],
   "source": [
    "# as one plot\n",
    "plt.scatter(age, party, color = 'darkorange')\n",
    "plt.scatter(age, pets, color = 'brown')\n",
    "plt.title('Party Arrival Time vs. Number of Pets for Age')\n",
    "plt.xlabel('Age')\n",
    "party_patch = mpatches.Patch(color='darkorange', label='Party')\n",
    "pets_patch = mpatches.Patch(color = 'brown', label = 'Pets')\n",
    "plt.legend(handles = [party_patch, pets_patch])\n",
    "plt.show()"
   ]
  },
  {
   "cell_type": "code",
   "execution_count": 14,
   "metadata": {
    "collapsed": false
   },
   "outputs": [
    {
     "data": {
      "image/png": "[encoded data removed]",
      "text/plain": [
       "<matplotlib.figure.Figure at 0x7fcbe0ec76d0>"
      ]
     },
     "metadata": {},
     "output_type": "display_data"
    },
    {
     "data": {
      "image/png": "[encoded data removed]",
      "text/plain": [
       "<matplotlib.figure.Figure at 0x7fcbe6d20410>"
      ]
     },
     "metadata": {},
     "output_type": "display_data"
    }
   ],
   "source": [
    "# as seperate plots\n",
    "plt.scatter(age, party, color = 'darkorange')\n",
    "plt.title('Age vs. Party Arrival Time')\n",
    "plt.xlabel('Age')\n",
    "plt.ylabel('Arrival Delta')\n",
    "plt.show()\n",
    "plt.scatter(age, pets, color = 'brown')\n",
    "plt.title('Age vs. Number of Pets')\n",
    "plt.xlabel('Age')\n",
    "plt.ylabel('Number of Pets')\n",
    "plt.show()"
   ]
  },
  {
   "cell_type": "markdown",
   "metadata": {},
   "source": [
    "## Calculate r"
   ]
  },
  {
   "cell_type": "code",
   "execution_count": 42,
   "metadata": {
    "collapsed": false
   },
   "outputs": [
    {
     "name": "stdout",
     "output_type": "stream",
     "text": [
      "            age     party\n",
      "age    1.000000 -0.164214\n",
      "party -0.164214  1.000000\n",
      "           age      pets\n",
      "age   1.000000  0.375765\n",
      "pets  0.375765  1.000000\n"
     ]
    }
   ],
   "source": [
    "# correlation for party\n",
    "party_corr = corrs_df[['age', 'party']].corr()\n",
    "print party_corr\n",
    "\n",
    "# correlation for pets\n",
    "pets_corr = corrs_df[['age', 'pets']].corr()\n",
    "print pets_corr"
   ]
  },
  {
   "cell_type": "markdown",
   "metadata": {},
   "source": [
    "## Find p"
   ]
  },
  {
   "cell_type": "code",
   "execution_count": 43,
   "metadata": {
    "collapsed": false
   },
   "outputs": [
    {
     "name": "stdout",
     "output_type": "stream",
     "text": [
      "p-values: party: 0.2060, pets: 0.0028\n"
     ]
    }
   ],
   "source": [
    "party_t = -1.2787\n",
    "party_dof = 59\n",
    "party_pval = stats.t.sf(np.abs(party_t), party_dof)*2 \n",
    "\n",
    "pets_t = 3.1146\n",
    "pets_dof = 59\n",
    "pets_pval = stats.t.sf(np.abs(pets_t), pets_dof)*2\n",
    "\n",
    "print 'p-values: party: {:06.4f}, pets: {:06.4f}'.format(party_pval, pets_pval)"
   ]
  },
  {
   "cell_type": "markdown",
   "metadata": {},
   "source": [
    "## Add Outlier"
   ]
  },
  {
   "cell_type": "code",
   "execution_count": 44,
   "metadata": {
    "collapsed": false
   },
   "outputs": [
    {
     "data": {
      "text/html": [
       "<div>\n",
       "<table border=\"1\" class=\"dataframe\">\n",
       "  <thead>\n",
       "    <tr style=\"text-align: right;\">\n",
       "      <th></th>\n",
       "      <th>age</th>\n",
       "      <th>dentist</th>\n",
       "      <th>eggs</th>\n",
       "      <th>emails</th>\n",
       "      <th>icons</th>\n",
       "      <th>party</th>\n",
       "      <th>pets</th>\n",
       "      <th>temp</th>\n",
       "      <th>year</th>\n",
       "    </tr>\n",
       "  </thead>\n",
       "  <tbody>\n",
       "    <tr>\n",
       "      <th>0</th>\n",
       "      <td>20</td>\n",
       "      <td>None</td>\n",
       "      <td>None</td>\n",
       "      <td>None</td>\n",
       "      <td>None</td>\n",
       "      <td>None</td>\n",
       "      <td>8</td>\n",
       "      <td>None</td>\n",
       "      <td>None</td>\n",
       "    </tr>\n",
       "  </tbody>\n",
       "</table>\n",
       "</div>"
      ],
      "text/plain": [
       "   age dentist  eggs emails icons party  pets  temp  year\n",
       "0   20    None  None   None  None  None     8  None  None"
      ]
     },
     "execution_count": 44,
     "metadata": {},
     "output_type": "execute_result"
    }
   ],
   "source": [
    "outlier_df = pd.DataFrame.from_dict({'dentist': None,\n",
    "                                   'temp': None,\n",
    "                                    'age': [20],\n",
    "                                    'year': None,\n",
    "                                    'pets': [8],\n",
    "                                    'eggs': None,\n",
    "                                    'icons': None,\n",
    "                                    'emails': None,\n",
    "                                    'party': None})\n",
    "outlier_df"
   ]
  },
  {
   "cell_type": "code",
   "execution_count": 51,
   "metadata": {
    "collapsed": false
   },
   "outputs": [
    {
     "data": {
      "text/plain": [
       "''"
      ]
     },
     "execution_count": 51,
     "metadata": {},
     "output_type": "execute_result"
    }
   ],
   "source": [
    "corrs_df = corrs_df.append(outlier_df, ignore_index = True)\n",
    ";"
   ]
  },
  {
   "cell_type": "code",
   "execution_count": 52,
   "metadata": {
    "collapsed": true
   },
   "outputs": [],
   "source": [
    "age = corrs_df['age']\n",
    "party = corrs_df['party']\n",
    "pets = corrs_df['pets']"
   ]
  },
  {
   "cell_type": "code",
   "execution_count": 53,
   "metadata": {
    "collapsed": false
   },
   "outputs": [
    {
     "name": "stdout",
     "output_type": "stream",
     "text": [
      "           age      pets\n",
      "age   1.000000  0.231481\n",
      "pets  0.231481  1.000000\n"
     ]
    }
   ],
   "source": [
    "pets_corr = corrs_df[['age', 'pets']].corr()\n",
    "print pets_corr"
   ]
  },
  {
   "cell_type": "markdown",
   "metadata": {},
   "source": [
    "# Problem Set 8"
   ]
  },
  {
   "cell_type": "markdown",
   "metadata": {},
   "source": [
    "## Quiz 14 Direction of Relationship"
   ]
  },
  {
   "cell_type": "code",
   "execution_count": 54,
   "metadata": {
    "collapsed": true
   },
   "outputs": [],
   "source": [
    "gest_df = pd.read_csv('/home/scruffy/git/udacity/inferStats/lesson8/Gestation and Longevity (Problem Set 14) - Sheet1.csv')"
   ]
  },
  {
   "cell_type": "code",
   "execution_count": 55,
   "metadata": {
    "collapsed": false
   },
   "outputs": [
    {
     "data": {
      "text/html": [
       "<div>\n",
       "<table border=\"1\" class=\"dataframe\">\n",
       "  <thead>\n",
       "    <tr style=\"text-align: right;\">\n",
       "      <th></th>\n",
       "      <th>Animal</th>\n",
       "      <th>Gestation (days)</th>\n",
       "      <th>Longevity (years)</th>\n",
       "    </tr>\n",
       "  </thead>\n",
       "  <tbody>\n",
       "    <tr>\n",
       "      <th>0</th>\n",
       "      <td>Baboon</td>\n",
       "      <td>187</td>\n",
       "      <td>20</td>\n",
       "    </tr>\n",
       "    <tr>\n",
       "      <th>1</th>\n",
       "      <td>Bear, Black</td>\n",
       "      <td>219</td>\n",
       "      <td>18</td>\n",
       "    </tr>\n",
       "    <tr>\n",
       "      <th>2</th>\n",
       "      <td>Bear, Grizzly</td>\n",
       "      <td>225</td>\n",
       "      <td>25</td>\n",
       "    </tr>\n",
       "    <tr>\n",
       "      <th>3</th>\n",
       "      <td>Bear, Polar</td>\n",
       "      <td>240</td>\n",
       "      <td>20</td>\n",
       "    </tr>\n",
       "    <tr>\n",
       "      <th>4</th>\n",
       "      <td>Beaver</td>\n",
       "      <td>105</td>\n",
       "      <td>5</td>\n",
       "    </tr>\n",
       "  </tbody>\n",
       "</table>\n",
       "</div>"
      ],
      "text/plain": [
       "          Animal  Gestation (days)  Longevity (years)\n",
       "0         Baboon               187                 20\n",
       "1    Bear, Black               219                 18\n",
       "2  Bear, Grizzly               225                 25\n",
       "3    Bear, Polar               240                 20\n",
       "4         Beaver               105                  5"
      ]
     },
     "execution_count": 55,
     "metadata": {},
     "output_type": "execute_result"
    }
   ],
   "source": [
    "gest_df.head()"
   ]
  },
  {
   "cell_type": "code",
   "execution_count": 56,
   "metadata": {
    "collapsed": true
   },
   "outputs": [],
   "source": [
    "gest_df.columns = ['animal', 'gestation', 'longevity']"
   ]
  },
  {
   "cell_type": "code",
   "execution_count": 59,
   "metadata": {
    "collapsed": false
   },
   "outputs": [
    {
     "data": {
      "image/png": "[encoded data removed]",
      "text/plain": [
       "<matplotlib.figure.Figure at 0x7fcbe6dd6090>"
      ]
     },
     "metadata": {},
     "output_type": "display_data"
    }
   ],
   "source": [
    "gestation = gest_df['gestation']\n",
    "longevity = gest_df['longevity']\n",
    "\n",
    "plt.scatter(gestation, longevity)\n",
    "plt.title('Gestation vs. Longevity')\n",
    "plt.xlabel('Gestation in Days')\n",
    "plt.ylabel('Longevity in Years')\n",
    "plt.show()"
   ]
  },
  {
   "cell_type": "markdown",
   "metadata": {},
   "source": [
    "## Quiz 16 Compute r"
   ]
  },
  {
   "cell_type": "code",
   "execution_count": 60,
   "metadata": {
    "collapsed": false
   },
   "outputs": [
    {
     "data": {
      "text/html": [
       "<div>\n",
       "<table border=\"1\" class=\"dataframe\">\n",
       "  <thead>\n",
       "    <tr style=\"text-align: right;\">\n",
       "      <th></th>\n",
       "      <th>gestation</th>\n",
       "      <th>longevity</th>\n",
       "    </tr>\n",
       "  </thead>\n",
       "  <tbody>\n",
       "    <tr>\n",
       "      <th>gestation</th>\n",
       "      <td>1.000000</td>\n",
       "      <td>0.589313</td>\n",
       "    </tr>\n",
       "    <tr>\n",
       "      <th>longevity</th>\n",
       "      <td>0.589313</td>\n",
       "      <td>1.000000</td>\n",
       "    </tr>\n",
       "  </tbody>\n",
       "</table>\n",
       "</div>"
      ],
      "text/plain": [
       "           gestation  longevity\n",
       "gestation   1.000000   0.589313\n",
       "longevity   0.589313   1.000000"
      ]
     },
     "execution_count": 60,
     "metadata": {},
     "output_type": "execute_result"
    }
   ],
   "source": [
    "gest_corr = gest_df[['gestation', 'longevity']].corr()\n",
    "gest_corr"
   ]
  },
  {
   "cell_type": "markdown",
   "metadata": {},
   "source": [
    "## Quiz 17 Coefficient of Determination"
   ]
  },
  {
   "cell_type": "code",
   "execution_count": 68,
   "metadata": {
    "collapsed": false
   },
   "outputs": [
    {
     "name": "stdout",
     "output_type": "stream",
     "text": [
      "T-stat: 7.87\n",
      "r^2: 0.3473\n"
     ]
    }
   ],
   "source": [
    "t = stats.ttest_ind(gestation, longevity)[0]\n",
    "print 'T-stat: {:.2f}'.format(t)\n",
    "\n",
    "linregress = stats.linregress(gestation, longevity)\n",
    "r_sq = linregress[2]**2\n",
    "print 'r^2: {:6.4f}'.format(r_sq)"
   ]
  },
  {
   "cell_type": "code",
   "execution_count": null,
   "metadata": {
    "collapsed": true
   },
   "outputs": [],
   "source": []
  }
 ],
 "metadata": {
  "kernelspec": {
   "display_name": "Python [Root]",
   "language": "python",
   "name": "Python [Root]"
  },
  "language_info": {
   "codemirror_mode": {
    "name": "ipython",
    "version": 2
   },
   "file_extension": ".py",
   "mimetype": "text/x-python",
   "name": "python",
   "nbconvert_exporter": "python",
   "pygments_lexer": "ipython2",
   "version": "2.7.12"
  }
 },
 "nbformat": 4,
 "nbformat_minor": 0
}
