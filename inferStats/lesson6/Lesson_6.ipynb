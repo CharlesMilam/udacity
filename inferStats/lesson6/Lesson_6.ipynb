{
 "cells": [
  {
   "cell_type": "markdown",
   "metadata": {},
   "source": [
    "# Lesson 6 aka Lesson 12"
   ]
  },
  {
   "cell_type": "code",
   "execution_count": 2,
   "metadata": {
    "collapsed": false
   },
   "outputs": [],
   "source": [
    "import numpy as np\n",
    "import pandas as pd\n",
    "from scipy import stats\n"
   ]
  },
  {
   "cell_type": "markdown",
   "metadata": {},
   "source": [
    "## Sample Means and Grand Mean"
   ]
  },
  {
   "cell_type": "code",
   "execution_count": 3,
   "metadata": {
    "collapsed": true
   },
   "outputs": [],
   "source": [
    "shirts_df = pd.DataFrame.from_dict({\n",
    "        'Snapzi':[15.0, 12.0, 14.0, 11.0], \n",
    "        'Irisa':[39.0, 45.0, 48.0, 60.0],\n",
    "        'LolaMoon': [65.0, 45.0, 32.0, 38.0]\n",
    "    })"
   ]
  },
  {
   "cell_type": "code",
   "execution_count": 5,
   "metadata": {
    "collapsed": false
   },
   "outputs": [
    {
     "data": {
      "text/html": [
       "<div>\n",
       "<table border=\"1\" class=\"dataframe\">\n",
       "  <thead>\n",
       "    <tr style=\"text-align: right;\">\n",
       "      <th></th>\n",
       "      <th>Irisa</th>\n",
       "      <th>LolaMoon</th>\n",
       "      <th>Snapzi</th>\n",
       "    </tr>\n",
       "  </thead>\n",
       "  <tbody>\n",
       "    <tr>\n",
       "      <th>0</th>\n",
       "      <td>39.0</td>\n",
       "      <td>65.0</td>\n",
       "      <td>15.0</td>\n",
       "    </tr>\n",
       "    <tr>\n",
       "      <th>1</th>\n",
       "      <td>45.0</td>\n",
       "      <td>45.0</td>\n",
       "      <td>12.0</td>\n",
       "    </tr>\n",
       "    <tr>\n",
       "      <th>2</th>\n",
       "      <td>48.0</td>\n",
       "      <td>32.0</td>\n",
       "      <td>14.0</td>\n",
       "    </tr>\n",
       "    <tr>\n",
       "      <th>3</th>\n",
       "      <td>60.0</td>\n",
       "      <td>38.0</td>\n",
       "      <td>11.0</td>\n",
       "    </tr>\n",
       "  </tbody>\n",
       "</table>\n",
       "</div>"
      ],
      "text/plain": [
       "   Irisa  LolaMoon  Snapzi\n",
       "0   39.0      65.0    15.0\n",
       "1   45.0      45.0    12.0\n",
       "2   48.0      32.0    14.0\n",
       "3   60.0      38.0    11.0"
      ]
     },
     "execution_count": 5,
     "metadata": {},
     "output_type": "execute_result"
    }
   ],
   "source": [
    "shirts_df"
   ]
  },
  {
   "cell_type": "code",
   "execution_count": 12,
   "metadata": {
    "collapsed": false
   },
   "outputs": [],
   "source": [
    "# calc the means\n",
    "xbar_s = shirts_df['Snapzi'].mean()\n",
    "xbar_i = shirts_df['Irisa'].mean()\n",
    "xbar_l = shirts_df['LolaMoon'].mean()\n",
    "grand_mean = np.mean([xbar_s, xbar_i, xbar_l])\n",
    "grand_mean_alt = shirts_df.values.mean()"
   ]
  },
  {
   "cell_type": "code",
   "execution_count": 14,
   "metadata": {
    "collapsed": false
   },
   "outputs": [
    {
     "name": "stdout",
     "output_type": "stream",
     "text": [
      "xbar_s: 13.0\n",
      "xbar_i: 48.0\n",
      "xbar_l: 45.0\n",
      "grand mean: 35.33\n",
      "grand mean alt: 35.33\n"
     ]
    }
   ],
   "source": [
    "print 'xbar_s:', xbar_s\n",
    "print 'xbar_i:', xbar_i\n",
    "print 'xbar_l:', xbar_l\n",
    "print 'grand mean: {:.2f}'.format(grand_mean)\n",
    "print 'grand mean alt: {:.2f}'.format(grand_mean_alt)"
   ]
  },
  {
   "cell_type": "markdown",
   "metadata": {},
   "source": [
    "## Sum of Squares Between Groups"
   ]
  },
  {
   "cell_type": "code",
   "execution_count": 44,
   "metadata": {
    "collapsed": false
   },
   "outputs": [],
   "source": [
    "sample_size = shirts_df['Snapzi'].count()\n",
    "xbars = [xbar_s, xbar_i, xbar_l]\n",
    "ss_betwn = sample_size * ((xbars - grand_mean)**2).sum()"
   ]
  },
  {
   "cell_type": "code",
   "execution_count": 45,
   "metadata": {
    "collapsed": false
   },
   "outputs": [
    {
     "name": "stdout",
     "output_type": "stream",
     "text": [
      "Sum of Squares: 3010.67\n"
     ]
    }
   ],
   "source": [
    "print 'Sum of Squares: {:.2f}'.format(ss_betwn)"
   ]
  },
  {
   "cell_type": "markdown",
   "metadata": {},
   "source": [
    "## Sum of Squares Within Groups"
   ]
  },
  {
   "cell_type": "code",
   "execution_count": 46,
   "metadata": {
    "collapsed": false
   },
   "outputs": [],
   "source": [
    "s_sums = ((shirts_df['Snapzi'] - xbar_s)**2).sum()\n",
    "i_sums = ((shirts_df['Irisa'] - xbar_i)**2).sum()\n",
    "l_sums = ((shirts_df['LolaMoon'] - xbar_l)**2).sum()\n",
    "ss_wi = np.array([s_sums, i_sums, l_sums]).sum()"
   ]
  },
  {
   "cell_type": "code",
   "execution_count": 47,
   "metadata": {
    "collapsed": false
   },
   "outputs": [
    {
     "name": "stdout",
     "output_type": "stream",
     "text": [
      "Sum of Square: 862.00\n"
     ]
    }
   ],
   "source": [
    "print 'Sum of Square: {:.2f}'.format(ss_wi)"
   ]
  },
  {
   "cell_type": "markdown",
   "metadata": {},
   "source": [
    "## Mean Squares"
   ]
  },
  {
   "cell_type": "code",
   "execution_count": 50,
   "metadata": {
    "collapsed": true
   },
   "outputs": [],
   "source": [
    "dof_betwn = 2\n",
    "dof_wi = 9\n",
    "ms_between = ss_betwn / dof_betwn\n",
    "ms_wi = ss_wi / dof_wi"
   ]
  },
  {
   "cell_type": "code",
   "execution_count": 51,
   "metadata": {
    "collapsed": false
   },
   "outputs": [
    {
     "name": "stdout",
     "output_type": "stream",
     "text": [
      "Mean squares between: 1505.33, Mean squares within: 95.78\n"
     ]
    }
   ],
   "source": [
    "print 'Mean squares between: {:.2f}, Mean squares within: {:.2f}'.format(ms_between, ms_wi)"
   ]
  },
  {
   "cell_type": "markdown",
   "metadata": {},
   "source": [
    "## F-Statistic"
   ]
  },
  {
   "cell_type": "code",
   "execution_count": 52,
   "metadata": {
    "collapsed": true
   },
   "outputs": [],
   "source": [
    "f_stat_man = ms_between / ms_wi\n",
    "f_stat = stats.f_oneway(shirts_df['Snapzi'], shirts_df['Irisa'], shirts_df['LolaMoon'])"
   ]
  },
  {
   "cell_type": "code",
   "execution_count": 55,
   "metadata": {
    "collapsed": false
   },
   "outputs": [
    {
     "name": "stdout",
     "output_type": "stream",
     "text": [
      "F-stat manual: 15.72, F-stat: 15.72\n"
     ]
    }
   ],
   "source": [
    "print 'F-stat manual: {:.2f}, F-stat: {:.2f}'.format(f_stat_man, f_stat[0])"
   ]
  },
  {
   "cell_type": "code",
   "execution_count": null,
   "metadata": {
    "collapsed": true
   },
   "outputs": [],
   "source": []
  }
 ],
 "metadata": {
  "kernelspec": {
   "display_name": "Python [Root]",
   "language": "python",
   "name": "Python [Root]"
  },
  "language_info": {
   "codemirror_mode": {
    "name": "ipython",
    "version": 2
   },
   "file_extension": ".py",
   "mimetype": "text/x-python",
   "name": "python",
   "nbconvert_exporter": "python",
   "pygments_lexer": "ipython2",
   "version": "2.7.12"
  }
 },
 "nbformat": 4,
 "nbformat_minor": 0
}
