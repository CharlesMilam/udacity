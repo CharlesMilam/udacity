{
 "cells": [
  {
   "cell_type": "markdown",
   "metadata": {},
   "source": [
    "# Lesson 7 aka Lesson 13 ANOVA Continued"
   ]
  },
  {
   "cell_type": "code",
   "execution_count": 2,
   "metadata": {
    "collapsed": false
   },
   "outputs": [],
   "source": [
    "import numpy as np\n",
    "import pandas as pd\n",
    "import scipy.stats"
   ]
  },
  {
   "cell_type": "markdown",
   "metadata": {},
   "source": [
    "## Grand Mean"
   ]
  },
  {
   "cell_type": "code",
   "execution_count": 3,
   "metadata": {
    "collapsed": false
   },
   "outputs": [
    {
     "data": {
      "text/html": [
       "<div>\n",
       "<table border=\"1\" class=\"dataframe\">\n",
       "  <thead>\n",
       "    <tr style=\"text-align: right;\">\n",
       "      <th></th>\n",
       "      <th>a</th>\n",
       "      <th>b</th>\n",
       "      <th>c</th>\n",
       "    </tr>\n",
       "  </thead>\n",
       "  <tbody>\n",
       "    <tr>\n",
       "      <th>0</th>\n",
       "      <td>2</td>\n",
       "      <td>6</td>\n",
       "      <td>8</td>\n",
       "    </tr>\n",
       "    <tr>\n",
       "      <th>1</th>\n",
       "      <td>4</td>\n",
       "      <td>5</td>\n",
       "      <td>9</td>\n",
       "    </tr>\n",
       "    <tr>\n",
       "      <th>2</th>\n",
       "      <td>3</td>\n",
       "      <td>7</td>\n",
       "      <td>10</td>\n",
       "    </tr>\n",
       "  </tbody>\n",
       "</table>\n",
       "</div>"
      ],
      "text/plain": [
       "   a  b   c\n",
       "0  2  6   8\n",
       "1  4  5   9\n",
       "2  3  7  10"
      ]
     },
     "execution_count": 3,
     "metadata": {},
     "output_type": "execute_result"
    }
   ],
   "source": [
    "foods_df = pd.DataFrame.from_dict({'a': [2, 4, 3], 'b': [6, 5, 7], 'c': [8, 9, 10]})\n",
    "foods_df"
   ]
  },
  {
   "cell_type": "code",
   "execution_count": 4,
   "metadata": {
    "collapsed": false
   },
   "outputs": [
    {
     "name": "stdout",
     "output_type": "stream",
     "text": [
      "Grand mean: 6.00\n"
     ]
    }
   ],
   "source": [
    "grand_mean = np.array([foods_df['a'].mean(), foods_df['b'].mean(), foods_df['c'].mean()]).mean()\n",
    "print 'Grand mean: {:.2f}'.format(grand_mean)"
   ]
  },
  {
   "cell_type": "markdown",
   "metadata": {},
   "source": [
    "## Group Means"
   ]
  },
  {
   "cell_type": "code",
   "execution_count": 7,
   "metadata": {
    "collapsed": false
   },
   "outputs": [
    {
     "name": "stdout",
     "output_type": "stream",
     "text": [
      "Group means: a: 3.00, b: 6.00, c: 9.00\n"
     ]
    }
   ],
   "source": [
    "a_mean = foods_df['a'].mean()\n",
    "b_mean = foods_df['b'].mean()\n",
    "c_mean = foods_df['c'].mean()\n",
    "\n",
    "print 'Group means: a: {:.2f}, b: {:.2f}, c: {:.2f}'.format(a_mean, b_mean, c_mean)"
   ]
  },
  {
   "cell_type": "markdown",
   "metadata": {},
   "source": [
    "## Sum of Squares Between Groups"
   ]
  },
  {
   "cell_type": "code",
   "execution_count": 8,
   "metadata": {
    "collapsed": false
   },
   "outputs": [
    {
     "name": "stdout",
     "output_type": "stream",
     "text": [
      "Sum of squares between groups: 54.00\n"
     ]
    }
   ],
   "source": [
    "samp_size = foods_df['a'].count()\n",
    "a_ss = (a_mean - grand_mean)**2\n",
    "b_ss = (b_mean - grand_mean)**2\n",
    "c_ss = (c_mean - grand_mean)**2\n",
    "btwn_ss = samp_size * np.array([a_ss, b_ss, c_ss]).sum()\n",
    "\n",
    "print 'Sum of squares between groups: {:.2f}'.format(btwn_ss)"
   ]
  },
  {
   "cell_type": "markdown",
   "metadata": {},
   "source": [
    "## Sum of Squares Within Groups"
   ]
  },
  {
   "cell_type": "code",
   "execution_count": 9,
   "metadata": {
    "collapsed": false
   },
   "outputs": [
    {
     "name": "stdout",
     "output_type": "stream",
     "text": [
      "Sum of squares within groups: 6.00\n"
     ]
    }
   ],
   "source": [
    "wi_ss = np.array([(foods_df['a'] - a_mean)**2, (foods_df['b'] - b_mean)**2, (foods_df['c'] - c_mean)**2]).sum()\n",
    "\n",
    "print 'Sum of squares within groups: {:.2f}'.format(wi_ss)"
   ]
  },
  {
   "cell_type": "code",
   "execution_count": null,
   "metadata": {
    "collapsed": true
   },
   "outputs": [],
   "source": []
  }
 ],
 "metadata": {
  "kernelspec": {
   "display_name": "Python [Root]",
   "language": "python",
   "name": "Python [Root]"
  },
  "language_info": {
   "codemirror_mode": {
    "name": "ipython",
    "version": 2
   },
   "file_extension": ".py",
   "mimetype": "text/x-python",
   "name": "python",
   "nbconvert_exporter": "python",
   "pygments_lexer": "ipython2",
   "version": "2.7.12"
  }
 },
 "nbformat": 4,
 "nbformat_minor": 0
}
