{
 "cells": [
  {
   "cell_type": "markdown",
   "metadata": {},
   "source": [
    "# Lesson 7 aka Lesson 13 ANOVA Continued"
   ]
  },
  {
   "cell_type": "code",
   "execution_count": 13,
   "metadata": {
    "collapsed": false
   },
   "outputs": [],
   "source": [
    "import numpy as np\n",
    "import pandas as pd\n",
    "import scipy.stats as stats"
   ]
  },
  {
   "cell_type": "markdown",
   "metadata": {},
   "source": [
    "## Grand Mean"
   ]
  },
  {
   "cell_type": "code",
   "execution_count": 3,
   "metadata": {
    "collapsed": false
   },
   "outputs": [
    {
     "data": {
      "text/html": [
       "<div>\n",
       "<table border=\"1\" class=\"dataframe\">\n",
       "  <thead>\n",
       "    <tr style=\"text-align: right;\">\n",
       "      <th></th>\n",
       "      <th>a</th>\n",
       "      <th>b</th>\n",
       "      <th>c</th>\n",
       "    </tr>\n",
       "  </thead>\n",
       "  <tbody>\n",
       "    <tr>\n",
       "      <th>0</th>\n",
       "      <td>2</td>\n",
       "      <td>6</td>\n",
       "      <td>8</td>\n",
       "    </tr>\n",
       "    <tr>\n",
       "      <th>1</th>\n",
       "      <td>4</td>\n",
       "      <td>5</td>\n",
       "      <td>9</td>\n",
       "    </tr>\n",
       "    <tr>\n",
       "      <th>2</th>\n",
       "      <td>3</td>\n",
       "      <td>7</td>\n",
       "      <td>10</td>\n",
       "    </tr>\n",
       "  </tbody>\n",
       "</table>\n",
       "</div>"
      ],
      "text/plain": [
       "   a  b   c\n",
       "0  2  6   8\n",
       "1  4  5   9\n",
       "2  3  7  10"
      ]
     },
     "execution_count": 3,
     "metadata": {},
     "output_type": "execute_result"
    }
   ],
   "source": [
    "foods_df = pd.DataFrame.from_dict({'a': [2, 4, 3], 'b': [6, 5, 7], 'c': [8, 9, 10]})\n",
    "foods_df"
   ]
  },
  {
   "cell_type": "code",
   "execution_count": 4,
   "metadata": {
    "collapsed": false
   },
   "outputs": [
    {
     "name": "stdout",
     "output_type": "stream",
     "text": [
      "Grand mean: 6.00\n"
     ]
    }
   ],
   "source": [
    "grand_mean = np.array([foods_df['a'].mean(), foods_df['b'].mean(), foods_df['c'].mean()]).mean()\n",
    "print 'Grand mean: {:.2f}'.format(grand_mean)"
   ]
  },
  {
   "cell_type": "markdown",
   "metadata": {},
   "source": [
    "## Group Means"
   ]
  },
  {
   "cell_type": "code",
   "execution_count": 7,
   "metadata": {
    "collapsed": false
   },
   "outputs": [
    {
     "name": "stdout",
     "output_type": "stream",
     "text": [
      "Group means: a: 3.00, b: 6.00, c: 9.00\n"
     ]
    }
   ],
   "source": [
    "a_mean = foods_df['a'].mean()\n",
    "b_mean = foods_df['b'].mean()\n",
    "c_mean = foods_df['c'].mean()\n",
    "\n",
    "print 'Group means: a: {:.2f}, b: {:.2f}, c: {:.2f}'.format(a_mean, b_mean, c_mean)"
   ]
  },
  {
   "cell_type": "markdown",
   "metadata": {},
   "source": [
    "## Sum of Squares Between Groups"
   ]
  },
  {
   "cell_type": "code",
   "execution_count": 8,
   "metadata": {
    "collapsed": false
   },
   "outputs": [
    {
     "name": "stdout",
     "output_type": "stream",
     "text": [
      "Sum of squares between groups: 54.00\n"
     ]
    }
   ],
   "source": [
    "samp_size = foods_df['a'].count()\n",
    "a_ss = (a_mean - grand_mean)**2\n",
    "b_ss = (b_mean - grand_mean)**2\n",
    "c_ss = (c_mean - grand_mean)**2\n",
    "btwn_ss = samp_size * np.array([a_ss, b_ss, c_ss]).sum()\n",
    "\n",
    "print 'Sum of squares between groups: {:.2f}'.format(btwn_ss)"
   ]
  },
  {
   "cell_type": "markdown",
   "metadata": {},
   "source": [
    "## Sum of Squares Within Groups"
   ]
  },
  {
   "cell_type": "code",
   "execution_count": 9,
   "metadata": {
    "collapsed": false
   },
   "outputs": [
    {
     "name": "stdout",
     "output_type": "stream",
     "text": [
      "Sum of squares within groups: 6.00\n"
     ]
    }
   ],
   "source": [
    "wi_ss = np.array([(foods_df['a'] - a_mean)**2, (foods_df['b'] - b_mean)**2, (foods_df['c'] - c_mean)**2]).sum()\n",
    "\n",
    "print 'Sum of squares within groups: {:.2f}'.format(wi_ss)"
   ]
  },
  {
   "cell_type": "markdown",
   "metadata": {},
   "source": [
    "## Degrees of Freedom"
   ]
  },
  {
   "cell_type": "code",
   "execution_count": 10,
   "metadata": {
    "collapsed": true
   },
   "outputs": [],
   "source": [
    "btwn_dof = 2\n",
    "wi_dof = 6"
   ]
  },
  {
   "cell_type": "markdown",
   "metadata": {},
   "source": [
    "## Mean Squares"
   ]
  },
  {
   "cell_type": "code",
   "execution_count": 11,
   "metadata": {
    "collapsed": false
   },
   "outputs": [
    {
     "name": "stdout",
     "output_type": "stream",
     "text": [
      "Mean squares: between: 27.00, within: 1.00\n"
     ]
    }
   ],
   "source": [
    "btwn_ms = btwn_ss / btwn_dof\n",
    "wi_ms = wi_ss / wi_dof\n",
    "\n",
    "print 'Mean squares: between: {:.2f}, within: {:.2f}'.format(btwn_ms, wi_ms)"
   ]
  },
  {
   "cell_type": "markdown",
   "metadata": {},
   "source": [
    "## F-Statistic"
   ]
  },
  {
   "cell_type": "code",
   "execution_count": 15,
   "metadata": {
    "collapsed": false
   },
   "outputs": [
    {
     "name": "stdout",
     "output_type": "stream",
     "text": [
      "F-statistic: 27.00\n"
     ]
    }
   ],
   "source": [
    "f_stat = stats.f_oneway(foods_df['a'], foods_df['b'], foods_df['c'])\n",
    "\n",
    "print 'F-statistic: {:.2f}'.format(f_stat[0])"
   ]
  },
  {
   "cell_type": "markdown",
   "metadata": {},
   "source": [
    "## Deviation from Grand Mean"
   ]
  },
  {
   "cell_type": "code",
   "execution_count": 19,
   "metadata": {
    "collapsed": false
   },
   "outputs": [
    {
     "name": "stdout",
     "output_type": "stream",
     "text": [
      "Deviation from grand mean: 60.00\n"
     ]
    }
   ],
   "source": [
    "gm_dev = ((foods_df - grand_mean)**2).values.sum()\n",
    "\n",
    "print 'Deviation from grand mean: {:.2f}'.format(gm_dev)"
   ]
  },
  {
   "cell_type": "markdown",
   "metadata": {},
   "source": [
    "## Tukey's HSD"
   ]
  },
  {
   "cell_type": "code",
   "execution_count": 20,
   "metadata": {
    "collapsed": false
   },
   "outputs": [
    {
     "name": "stdout",
     "output_type": "stream",
     "text": [
      "Tukey's: 2.51\n"
     ]
    }
   ],
   "source": [
    "q = 4.34\n",
    "tukeys = q * np.sqrt(wi_ms / samp_size)\n",
    "\n",
    "print \"Tukey's: {:.2f}\".format(tukeys)"
   ]
  },
  {
   "cell_type": "markdown",
   "metadata": {},
   "source": [
    "## Significant Differences"
   ]
  },
  {
   "cell_type": "code",
   "execution_count": 21,
   "metadata": {
    "collapsed": false
   },
   "outputs": [
    {
     "name": "stdout",
     "output_type": "stream",
     "text": [
      "Differences: ab: -3.0, bc: -3.0, ac: -6.0\n"
     ]
    }
   ],
   "source": [
    "ab_diff = a_mean - b_mean\n",
    "bc_diff = b_mean - c_mean\n",
    "ac_diff = a_mean - c_mean\n",
    "\n",
    "print 'Differences: ab: {}, bc: {}, ac: {}'.format(ab_diff, bc_diff, ac_diff)"
   ]
  },
  {
   "cell_type": "markdown",
   "metadata": {},
   "source": [
    "## Cohen's d for Mulitple Comparisons"
   ]
  },
  {
   "cell_type": "code",
   "execution_count": 22,
   "metadata": {
    "collapsed": false
   },
   "outputs": [
    {
     "name": "stdout",
     "output_type": "stream",
     "text": [
      "Cohen's: ab: -3.00, bc: -3.00, ac: -6.00\n"
     ]
    }
   ],
   "source": [
    "pooled_var = np.sqrt(wi_ms)\n",
    "ab_d = (a_mean - b_mean) / pooled_var\n",
    "bc_d = (b_mean - c_mean) / pooled_var\n",
    "ac_d = (a_mean - c_mean) / pooled_var\n",
    "\n",
    "print \"Cohen's: ab: {:.2f}, bc: {:.2f}, ac: {:.2f}\".format(ab_d, bc_d, ac_d)"
   ]
  },
  {
   "cell_type": "markdown",
   "metadata": {},
   "source": [
    "## Ada^2"
   ]
  },
  {
   "cell_type": "code",
   "execution_count": 23,
   "metadata": {
    "collapsed": false
   },
   "outputs": [
    {
     "name": "stdout",
     "output_type": "stream",
     "text": [
      "Ada^2: 0.90\n"
     ]
    }
   ],
   "source": [
    "ada_sq = btwn_ss / (btwn_ss + wi_ss)\n",
    "\n",
    "print 'Ada^2: {:.2f}'.format(ada_sq)"
   ]
  },
  {
   "cell_type": "markdown",
   "metadata": {},
   "source": [
    "## Different Sample Sizes"
   ]
  },
  {
   "cell_type": "code",
   "execution_count": 25,
   "metadata": {
    "collapsed": false
   },
   "outputs": [
    {
     "data": {
      "text/html": [
       "<div>\n",
       "<table border=\"1\" class=\"dataframe\">\n",
       "  <thead>\n",
       "    <tr style=\"text-align: right;\">\n",
       "      <th></th>\n",
       "      <th>1</th>\n",
       "      <th>2</th>\n",
       "      <th>3</th>\n",
       "      <th>p</th>\n",
       "    </tr>\n",
       "  </thead>\n",
       "  <tbody>\n",
       "    <tr>\n",
       "      <th>0</th>\n",
       "      <td>1.6</td>\n",
       "      <td>2.0</td>\n",
       "      <td>2.9</td>\n",
       "      <td>1.5</td>\n",
       "    </tr>\n",
       "    <tr>\n",
       "      <th>1</th>\n",
       "      <td>1.7</td>\n",
       "      <td>1.4</td>\n",
       "      <td>3.1</td>\n",
       "      <td>1.3</td>\n",
       "    </tr>\n",
       "    <tr>\n",
       "      <th>2</th>\n",
       "      <td>1.9</td>\n",
       "      <td>1.5</td>\n",
       "      <td>2.8</td>\n",
       "      <td>1.8</td>\n",
       "    </tr>\n",
       "    <tr>\n",
       "      <th>3</th>\n",
       "      <td>1.2</td>\n",
       "      <td>1.5</td>\n",
       "      <td>2.7</td>\n",
       "      <td>1.6</td>\n",
       "    </tr>\n",
       "    <tr>\n",
       "      <th>4</th>\n",
       "      <td>NaN</td>\n",
       "      <td>1.8</td>\n",
       "      <td>NaN</td>\n",
       "      <td>1.3</td>\n",
       "    </tr>\n",
       "    <tr>\n",
       "      <th>5</th>\n",
       "      <td>NaN</td>\n",
       "      <td>1.7</td>\n",
       "      <td>NaN</td>\n",
       "      <td>NaN</td>\n",
       "    </tr>\n",
       "    <tr>\n",
       "      <th>6</th>\n",
       "      <td>NaN</td>\n",
       "      <td>1.4</td>\n",
       "      <td>NaN</td>\n",
       "      <td>NaN</td>\n",
       "    </tr>\n",
       "  </tbody>\n",
       "</table>\n",
       "</div>"
      ],
      "text/plain": [
       "     1    2    3    p\n",
       "0  1.6  2.0  2.9  1.5\n",
       "1  1.7  1.4  3.1  1.3\n",
       "2  1.9  1.5  2.8  1.8\n",
       "3  1.2  1.5  2.7  1.6\n",
       "4  NaN  1.8  NaN  1.3\n",
       "5  NaN  1.7  NaN  NaN\n",
       "6  NaN  1.4  NaN  NaN"
      ]
     },
     "execution_count": 25,
     "metadata": {},
     "output_type": "execute_result"
    }
   ],
   "source": [
    "drugs_df = pd.DataFrame.from_dict({'p': [1.5, 1.3, 1.8, 1.6, 1.3, None, None], \n",
    "                                   '1': [1.6, 1.7, 1.9, 1.2, None, None, None], \n",
    "                                    '2': [2.0, 1.4, 1.5, 1.5, 1.8, 1.7, 1.4],\n",
    "                                    '3': [2.9, 3.1, 2.8, 2.7, None, None, None]\n",
    "                                  })\n",
    "drugs_df"
   ]
  },
  {
   "cell_type": "code",
   "execution_count": 27,
   "metadata": {
    "collapsed": false
   },
   "outputs": [
    {
     "name": "stdout",
     "output_type": "stream",
     "text": [
      "Means: p: 1.50, 1: 1.60, 2: 1.61, 3: 2.88\n"
     ]
    }
   ],
   "source": [
    "p_mean = drugs_df['p'].mean()\n",
    "one_mean = drugs_df['1'].mean()\n",
    "two_mean = drugs_df['2'].mean()\n",
    "three_mean = drugs_df['3'].mean()\n",
    "\n",
    "print 'Means: p: {:.2f}, 1: {:.2f}, 2: {:.2f}, 3: {:.2f}'.format(p_mean, one_mean, two_mean, three_mean)"
   ]
  },
  {
   "cell_type": "code",
   "execution_count": null,
   "metadata": {
    "collapsed": true
   },
   "outputs": [],
   "source": []
  }
 ],
 "metadata": {
  "kernelspec": {
   "display_name": "Python [Root]",
   "language": "python",
   "name": "Python [Root]"
  },
  "language_info": {
   "codemirror_mode": {
    "name": "ipython",
    "version": 2
   },
   "file_extension": ".py",
   "mimetype": "text/x-python",
   "name": "python",
   "nbconvert_exporter": "python",
   "pygments_lexer": "ipython2",
   "version": "2.7.12"
  }
 },
 "nbformat": 4,
 "nbformat_minor": 0
}
