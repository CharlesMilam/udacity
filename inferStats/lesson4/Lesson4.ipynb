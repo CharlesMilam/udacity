{
 "cells": [
  {
   "cell_type": "markdown",
   "metadata": {},
   "source": [
    "# Infer Stats - Lesson 4 aka Lesson 10"
   ]
  },
  {
   "cell_type": "code",
   "execution_count": 8,
   "metadata": {
    "collapsed": true
   },
   "outputs": [],
   "source": [
    "import numpy as np\n",
    "import pandas as pd\n",
    "from scipy.stats import ttest_1samp\n",
    "import matplotlib.pyplot as plt\n",
    "\n",
    "%matplotlib inline"
   ]
  },
  {
   "cell_type": "markdown",
   "metadata": {},
   "source": [
    "## Finches"
   ]
  },
  {
   "cell_type": "code",
   "execution_count": 2,
   "metadata": {
    "collapsed": true
   },
   "outputs": [],
   "source": [
    "# import data\n",
    "finches_df = pd.read_csv('/home/scruffy/git/udacity/inferStats/lesson4/Finches - Lesson 10 - Sheet1.csv')"
   ]
  },
  {
   "cell_type": "code",
   "execution_count": 3,
   "metadata": {
    "collapsed": false
   },
   "outputs": [
    {
     "data": {
      "text/html": [
       "<div>\n",
       "<table border=\"1\" class=\"dataframe\">\n",
       "  <thead>\n",
       "    <tr style=\"text-align: right;\">\n",
       "      <th></th>\n",
       "      <th>Beak widths of finches now</th>\n",
       "    </tr>\n",
       "  </thead>\n",
       "  <tbody>\n",
       "    <tr>\n",
       "      <th>count</th>\n",
       "      <td>500.000000</td>\n",
       "    </tr>\n",
       "    <tr>\n",
       "      <th>mean</th>\n",
       "      <td>6.469600</td>\n",
       "    </tr>\n",
       "    <tr>\n",
       "      <th>std</th>\n",
       "      <td>0.396118</td>\n",
       "    </tr>\n",
       "    <tr>\n",
       "      <th>min</th>\n",
       "      <td>5.300000</td>\n",
       "    </tr>\n",
       "    <tr>\n",
       "      <th>25%</th>\n",
       "      <td>6.200000</td>\n",
       "    </tr>\n",
       "    <tr>\n",
       "      <th>50%</th>\n",
       "      <td>6.500000</td>\n",
       "    </tr>\n",
       "    <tr>\n",
       "      <th>75%</th>\n",
       "      <td>6.700000</td>\n",
       "    </tr>\n",
       "    <tr>\n",
       "      <th>max</th>\n",
       "      <td>7.600000</td>\n",
       "    </tr>\n",
       "  </tbody>\n",
       "</table>\n",
       "</div>"
      ],
      "text/plain": [
       "       Beak widths of finches now\n",
       "count                  500.000000\n",
       "mean                     6.469600\n",
       "std                      0.396118\n",
       "min                      5.300000\n",
       "25%                      6.200000\n",
       "50%                      6.500000\n",
       "75%                      6.700000\n",
       "max                      7.600000"
      ]
     },
     "execution_count": 3,
     "metadata": {},
     "output_type": "execute_result"
    }
   ],
   "source": [
    "# and describe\n",
    "finches_df.describe()"
   ]
  },
  {
   "cell_type": "code",
   "execution_count": 7,
   "metadata": {
    "collapsed": false
   },
   "outputs": [
    {
     "name": "stdout",
     "output_type": "stream",
     "text": [
      "sample size: 500\n",
      "degrees of freedom: 499\n"
     ]
    }
   ],
   "source": [
    "# deterine sample size\n",
    "finches_ss = finches_df.size\n",
    "\n",
    "# and degrees of freedom\n",
    "finches_dof = finches_ss - 1\n",
    "\n",
    "# display those values\n",
    "print 'sample size: {}\\ndegrees of freedom: {}'.format(finches_ss, finches_dof)"
   ]
  },
  {
   "cell_type": "code",
   "execution_count": 13,
   "metadata": {
    "collapsed": false
   },
   "outputs": [
    {
     "data": {
      "text/plain": [
       "Ttest_1sampResult(statistic=array([ 22.55722347]), pvalue=array([  3.39916810e-78]))"
      ]
     },
     "execution_count": 13,
     "metadata": {},
     "output_type": "execute_result"
    }
   ],
   "source": [
    "# calculate t statistic\n",
    "finches_t = ttest_1samp(finches_df, 6.07)\n",
    "finches_t"
   ]
  },
  {
   "cell_type": "markdown",
   "metadata": {},
   "source": [
    "## P-Value"
   ]
  },
  {
   "cell_type": "code",
   "execution_count": 15,
   "metadata": {
    "collapsed": false
   },
   "outputs": [
    {
     "data": {
      "text/html": [
       "<div>\n",
       "<table border=\"1\" class=\"dataframe\">\n",
       "  <thead>\n",
       "    <tr style=\"text-align: right;\">\n",
       "      <th></th>\n",
       "      <th>sample</th>\n",
       "    </tr>\n",
       "  </thead>\n",
       "  <tbody>\n",
       "    <tr>\n",
       "      <th>0</th>\n",
       "      <td>5</td>\n",
       "    </tr>\n",
       "    <tr>\n",
       "      <th>1</th>\n",
       "      <td>19</td>\n",
       "    </tr>\n",
       "    <tr>\n",
       "      <th>2</th>\n",
       "      <td>11</td>\n",
       "    </tr>\n",
       "    <tr>\n",
       "      <th>3</th>\n",
       "      <td>23</td>\n",
       "    </tr>\n",
       "    <tr>\n",
       "      <th>4</th>\n",
       "      <td>12</td>\n",
       "    </tr>\n",
       "    <tr>\n",
       "      <th>5</th>\n",
       "      <td>7</td>\n",
       "    </tr>\n",
       "    <tr>\n",
       "      <th>6</th>\n",
       "      <td>3</td>\n",
       "    </tr>\n",
       "    <tr>\n",
       "      <th>7</th>\n",
       "      <td>21</td>\n",
       "    </tr>\n",
       "  </tbody>\n",
       "</table>\n",
       "</div>"
      ],
      "text/plain": [
       "   sample\n",
       "0       5\n",
       "1      19\n",
       "2      11\n",
       "3      23\n",
       "4      12\n",
       "5       7\n",
       "6       3\n",
       "7      21"
      ]
     },
     "execution_count": 15,
     "metadata": {},
     "output_type": "execute_result"
    }
   ],
   "source": [
    "sample_df = pd.DataFrame({'sample': [5, 19, 11, 23, 12, 7, 3, 21]})\n",
    "sample_df"
   ]
  },
  {
   "cell_type": "code",
   "execution_count": 16,
   "metadata": {
    "collapsed": false
   },
   "outputs": [
    {
     "data": {
      "text/plain": [
       "Ttest_1sampResult(statistic=array([ 0.97746189]), pvalue=array([ 0.36090407]))"
      ]
     },
     "execution_count": 16,
     "metadata": {},
     "output_type": "execute_result"
    }
   ],
   "source": [
    "ttest_1samp(sample_df, 10)"
   ]
  },
  {
   "cell_type": "markdown",
   "metadata": {},
   "source": [
    "## Keyboards"
   ]
  },
  {
   "cell_type": "code",
   "execution_count": 17,
   "metadata": {
    "collapsed": true
   },
   "outputs": [],
   "source": [
    "keyboards_df = pd.read_csv('/home/scruffy/git/udacity/inferStats/lesson4/Keyboards - Lesson 10 - Sheet1.csv')"
   ]
  },
  {
   "cell_type": "code",
   "execution_count": 18,
   "metadata": {
    "collapsed": false
   },
   "outputs": [
    {
     "data": {
      "text/html": [
       "<div>\n",
       "<table border=\"1\" class=\"dataframe\">\n",
       "  <thead>\n",
       "    <tr style=\"text-align: right;\">\n",
       "      <th></th>\n",
       "      <th>QWERTY errors</th>\n",
       "      <th>Alphabetical errors</th>\n",
       "    </tr>\n",
       "  </thead>\n",
       "  <tbody>\n",
       "    <tr>\n",
       "      <th>count</th>\n",
       "      <td>25.000000</td>\n",
       "      <td>25.000000</td>\n",
       "    </tr>\n",
       "    <tr>\n",
       "      <th>mean</th>\n",
       "      <td>5.080000</td>\n",
       "      <td>7.800000</td>\n",
       "    </tr>\n",
       "    <tr>\n",
       "      <th>std</th>\n",
       "      <td>2.059935</td>\n",
       "      <td>2.645751</td>\n",
       "    </tr>\n",
       "    <tr>\n",
       "      <th>min</th>\n",
       "      <td>2.000000</td>\n",
       "      <td>3.000000</td>\n",
       "    </tr>\n",
       "    <tr>\n",
       "      <th>25%</th>\n",
       "      <td>4.000000</td>\n",
       "      <td>6.000000</td>\n",
       "    </tr>\n",
       "    <tr>\n",
       "      <th>50%</th>\n",
       "      <td>5.000000</td>\n",
       "      <td>8.000000</td>\n",
       "    </tr>\n",
       "    <tr>\n",
       "      <th>75%</th>\n",
       "      <td>7.000000</td>\n",
       "      <td>10.000000</td>\n",
       "    </tr>\n",
       "    <tr>\n",
       "      <th>max</th>\n",
       "      <td>10.000000</td>\n",
       "      <td>13.000000</td>\n",
       "    </tr>\n",
       "  </tbody>\n",
       "</table>\n",
       "</div>"
      ],
      "text/plain": [
       "       QWERTY errors  Alphabetical errors\n",
       "count      25.000000            25.000000\n",
       "mean        5.080000             7.800000\n",
       "std         2.059935             2.645751\n",
       "min         2.000000             3.000000\n",
       "25%         4.000000             6.000000\n",
       "50%         5.000000             8.000000\n",
       "75%         7.000000            10.000000\n",
       "max        10.000000            13.000000"
      ]
     },
     "execution_count": 18,
     "metadata": {},
     "output_type": "execute_result"
    }
   ],
   "source": [
    "# describe the data\n",
    "keyboards_df.describe()"
   ]
  },
  {
   "cell_type": "code",
   "execution_count": 46,
   "metadata": {
    "collapsed": false
   },
   "outputs": [
    {
     "name": "stdout",
     "output_type": "stream",
     "text": [
      "0      0\n",
      "1     -5\n",
      "2     -6\n",
      "3      2\n",
      "4     -3\n",
      "5      0\n",
      "6     -8\n",
      "7     -4\n",
      "8      1\n",
      "9      4\n",
      "10     3\n",
      "11    -1\n",
      "12    -6\n",
      "13    -3\n",
      "14    -1\n",
      "15     2\n",
      "16    -6\n",
      "17    -6\n",
      "18   -11\n",
      "19    -3\n",
      "20    -2\n",
      "21    -7\n",
      "22    -3\n",
      "23    -4\n",
      "24    -1\n",
      "dtype: int64\n"
     ]
    },
    {
     "data": {
      "text/plain": [
       "'diffs sd: 3.691'"
      ]
     },
     "execution_count": 46,
     "metadata": {},
     "output_type": "execute_result"
    }
   ],
   "source": [
    "# calc differences\n",
    "kb_diffs = pd.Series(keyboards_df['QWERTY errors'] - keyboards_df['Alphabetical errors'])\n",
    "\n",
    "# and calc the sd of the differences\n",
    "diffs_sd = np.std(kb_diffs, ddof = 1)\n",
    "\n",
    "# the results\n",
    "print kb_diffs\n",
    "'diffs sd: {:.3f}'.format(diffs_sd)"
   ]
  },
  {
   "cell_type": "code",
   "execution_count": 52,
   "metadata": {
    "collapsed": false
   },
   "outputs": [
    {
     "name": "stdout",
     "output_type": "stream",
     "text": [
      "-2.72\n"
     ]
    },
    {
     "data": {
      "text/plain": [
       "Ttest_1sampResult(statistic=0     -3.684208\n",
       "1      3.088233\n",
       "2      4.442721\n",
       "3     -6.393184\n",
       "4      0.379257\n",
       "5     -3.684208\n",
       "6      7.151697\n",
       "7      1.733745\n",
       "8     -5.038696\n",
       "9     -9.102160\n",
       "10    -7.747672\n",
       "11    -2.329720\n",
       "12     4.442721\n",
       "13     0.379257\n",
       "14    -2.329720\n",
       "15    -6.393184\n",
       "16     4.442721\n",
       "17     4.442721\n",
       "18    11.215161\n",
       "19     0.379257\n",
       "20    -0.975231\n",
       "21     5.797209\n",
       "22     0.379257\n",
       "23     1.733745\n",
       "24    -2.329720\n",
       "dtype: float64, pvalue=array([  1.16539763e-03,   5.02740996e-03,   1.71343204e-04,\n",
       "         1.30636551e-06,   7.07832153e-01,   1.16539763e-03,\n",
       "         2.16237975e-07,   9.57934862e-02,   3.76869573e-05,\n",
       "         2.98611333e-09,   5.53905222e-08,   2.85595685e-02,\n",
       "         1.71343204e-04,   7.07832153e-01,   2.85595685e-02,\n",
       "         1.30636551e-06,   1.71343204e-04,   1.71343204e-04,\n",
       "         5.00255769e-11,   7.07832153e-01,   3.39173474e-01,\n",
       "         5.62150829e-06,   7.07832153e-01,   9.57934862e-02,\n",
       "         2.85595685e-02]))"
      ]
     },
     "execution_count": 52,
     "metadata": {},
     "output_type": "execute_result"
    }
   ],
   "source": [
    "# get the t statistic\n",
    "print kb_diffs.mean()\n",
    "ttest_1samp(kb_diffs, kb_diffs)"
   ]
  },
  {
   "cell_type": "code",
   "execution_count": null,
   "metadata": {
    "collapsed": true
   },
   "outputs": [],
   "source": []
  }
 ],
 "metadata": {
  "kernelspec": {
   "display_name": "Python [Root]",
   "language": "python",
   "name": "Python [Root]"
  },
  "language_info": {
   "codemirror_mode": {
    "name": "ipython",
    "version": 2
   },
   "file_extension": ".py",
   "mimetype": "text/x-python",
   "name": "python",
   "nbconvert_exporter": "python",
   "pygments_lexer": "ipython2",
   "version": "2.7.12"
  }
 },
 "nbformat": 4,
 "nbformat_minor": 0
}
