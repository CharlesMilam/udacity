{
 "cells": [
  {
   "cell_type": "markdown",
   "metadata": {},
   "source": [
    "# Infer Stats - Lesson 4 aka Lesson 10"
   ]
  },
  {
   "cell_type": "code",
   "execution_count": 2,
   "metadata": {
    "collapsed": true
   },
   "outputs": [],
   "source": [
    "import numpy as np\n",
    "import pandas as pd\n",
    "from scipy import stats\n",
    "import matplotlib.pyplot as plt\n",
    "\n",
    "%matplotlib inline"
   ]
  },
  {
   "cell_type": "markdown",
   "metadata": {},
   "source": [
    "## Finches"
   ]
  },
  {
   "cell_type": "code",
   "execution_count": 3,
   "metadata": {
    "collapsed": true
   },
   "outputs": [],
   "source": [
    "# import data\n",
    "finches_df = pd.read_csv('/home/scruffy/git/udacity/inferStats/lesson4/Finches - Lesson 10 - Sheet1.csv')"
   ]
  },
  {
   "cell_type": "code",
   "execution_count": 4,
   "metadata": {
    "collapsed": false
   },
   "outputs": [
    {
     "data": {
      "text/html": [
       "<div>\n",
       "<table border=\"1\" class=\"dataframe\">\n",
       "  <thead>\n",
       "    <tr style=\"text-align: right;\">\n",
       "      <th></th>\n",
       "      <th>Beak widths of finches now</th>\n",
       "    </tr>\n",
       "  </thead>\n",
       "  <tbody>\n",
       "    <tr>\n",
       "      <th>count</th>\n",
       "      <td>500.000000</td>\n",
       "    </tr>\n",
       "    <tr>\n",
       "      <th>mean</th>\n",
       "      <td>6.469600</td>\n",
       "    </tr>\n",
       "    <tr>\n",
       "      <th>std</th>\n",
       "      <td>0.396118</td>\n",
       "    </tr>\n",
       "    <tr>\n",
       "      <th>min</th>\n",
       "      <td>5.300000</td>\n",
       "    </tr>\n",
       "    <tr>\n",
       "      <th>25%</th>\n",
       "      <td>6.200000</td>\n",
       "    </tr>\n",
       "    <tr>\n",
       "      <th>50%</th>\n",
       "      <td>6.500000</td>\n",
       "    </tr>\n",
       "    <tr>\n",
       "      <th>75%</th>\n",
       "      <td>6.700000</td>\n",
       "    </tr>\n",
       "    <tr>\n",
       "      <th>max</th>\n",
       "      <td>7.600000</td>\n",
       "    </tr>\n",
       "  </tbody>\n",
       "</table>\n",
       "</div>"
      ],
      "text/plain": [
       "       Beak widths of finches now\n",
       "count                  500.000000\n",
       "mean                     6.469600\n",
       "std                      0.396118\n",
       "min                      5.300000\n",
       "25%                      6.200000\n",
       "50%                      6.500000\n",
       "75%                      6.700000\n",
       "max                      7.600000"
      ]
     },
     "execution_count": 4,
     "metadata": {},
     "output_type": "execute_result"
    }
   ],
   "source": [
    "# and describe\n",
    "finches_df.describe()"
   ]
  },
  {
   "cell_type": "code",
   "execution_count": 5,
   "metadata": {
    "collapsed": false
   },
   "outputs": [
    {
     "name": "stdout",
     "output_type": "stream",
     "text": [
      "sample size: 500\n",
      "degrees of freedom: 499\n"
     ]
    }
   ],
   "source": [
    "# deterine sample size\n",
    "finches_ss = finches_df.size\n",
    "\n",
    "# and degrees of freedom\n",
    "finches_dof = finches_ss - 1\n",
    "\n",
    "# display those values\n",
    "print 'sample size: {}\\ndegrees of freedom: {}'.format(finches_ss, finches_dof)"
   ]
  },
  {
   "cell_type": "code",
   "execution_count": 6,
   "metadata": {
    "collapsed": false
   },
   "outputs": [
    {
     "data": {
      "text/plain": [
       "Ttest_1sampResult(statistic=array([ 22.55722347]), pvalue=array([  3.39916810e-78]))"
      ]
     },
     "execution_count": 6,
     "metadata": {},
     "output_type": "execute_result"
    }
   ],
   "source": [
    "# calculate t statistic\n",
    "finches_t = stats.ttest_1samp(finches_df, 6.07)\n",
    "finches_t"
   ]
  },
  {
   "cell_type": "markdown",
   "metadata": {},
   "source": [
    "## P-Value"
   ]
  },
  {
   "cell_type": "code",
   "execution_count": 7,
   "metadata": {
    "collapsed": false
   },
   "outputs": [
    {
     "data": {
      "text/html": [
       "<div>\n",
       "<table border=\"1\" class=\"dataframe\">\n",
       "  <thead>\n",
       "    <tr style=\"text-align: right;\">\n",
       "      <th></th>\n",
       "      <th>sample</th>\n",
       "    </tr>\n",
       "  </thead>\n",
       "  <tbody>\n",
       "    <tr>\n",
       "      <th>0</th>\n",
       "      <td>5</td>\n",
       "    </tr>\n",
       "    <tr>\n",
       "      <th>1</th>\n",
       "      <td>19</td>\n",
       "    </tr>\n",
       "    <tr>\n",
       "      <th>2</th>\n",
       "      <td>11</td>\n",
       "    </tr>\n",
       "    <tr>\n",
       "      <th>3</th>\n",
       "      <td>23</td>\n",
       "    </tr>\n",
       "    <tr>\n",
       "      <th>4</th>\n",
       "      <td>12</td>\n",
       "    </tr>\n",
       "    <tr>\n",
       "      <th>5</th>\n",
       "      <td>7</td>\n",
       "    </tr>\n",
       "    <tr>\n",
       "      <th>6</th>\n",
       "      <td>3</td>\n",
       "    </tr>\n",
       "    <tr>\n",
       "      <th>7</th>\n",
       "      <td>21</td>\n",
       "    </tr>\n",
       "  </tbody>\n",
       "</table>\n",
       "</div>"
      ],
      "text/plain": [
       "   sample\n",
       "0       5\n",
       "1      19\n",
       "2      11\n",
       "3      23\n",
       "4      12\n",
       "5       7\n",
       "6       3\n",
       "7      21"
      ]
     },
     "execution_count": 7,
     "metadata": {},
     "output_type": "execute_result"
    }
   ],
   "source": [
    "sample_df = pd.DataFrame({'sample': [5, 19, 11, 23, 12, 7, 3, 21]})\n",
    "sample_df"
   ]
  },
  {
   "cell_type": "code",
   "execution_count": 8,
   "metadata": {
    "collapsed": false
   },
   "outputs": [
    {
     "data": {
      "text/plain": [
       "Ttest_1sampResult(statistic=array([ 0.97746189]), pvalue=array([ 0.36090407]))"
      ]
     },
     "execution_count": 8,
     "metadata": {},
     "output_type": "execute_result"
    }
   ],
   "source": [
    "stats.ttest_1samp(sample_df, 10)"
   ]
  },
  {
   "cell_type": "markdown",
   "metadata": {},
   "source": [
    "## Keyboards"
   ]
  },
  {
   "cell_type": "code",
   "execution_count": 9,
   "metadata": {
    "collapsed": true
   },
   "outputs": [],
   "source": [
    "keyboards_df = pd.read_csv('/home/scruffy/git/udacity/inferStats/lesson4/Keyboards - Lesson 10 - Sheet1.csv')"
   ]
  },
  {
   "cell_type": "code",
   "execution_count": 10,
   "metadata": {
    "collapsed": false
   },
   "outputs": [
    {
     "data": {
      "text/html": [
       "<div>\n",
       "<table border=\"1\" class=\"dataframe\">\n",
       "  <thead>\n",
       "    <tr style=\"text-align: right;\">\n",
       "      <th></th>\n",
       "      <th>QWERTY errors</th>\n",
       "      <th>Alphabetical errors</th>\n",
       "    </tr>\n",
       "  </thead>\n",
       "  <tbody>\n",
       "    <tr>\n",
       "      <th>count</th>\n",
       "      <td>25.000000</td>\n",
       "      <td>25.000000</td>\n",
       "    </tr>\n",
       "    <tr>\n",
       "      <th>mean</th>\n",
       "      <td>5.080000</td>\n",
       "      <td>7.800000</td>\n",
       "    </tr>\n",
       "    <tr>\n",
       "      <th>std</th>\n",
       "      <td>2.059935</td>\n",
       "      <td>2.645751</td>\n",
       "    </tr>\n",
       "    <tr>\n",
       "      <th>min</th>\n",
       "      <td>2.000000</td>\n",
       "      <td>3.000000</td>\n",
       "    </tr>\n",
       "    <tr>\n",
       "      <th>25%</th>\n",
       "      <td>4.000000</td>\n",
       "      <td>6.000000</td>\n",
       "    </tr>\n",
       "    <tr>\n",
       "      <th>50%</th>\n",
       "      <td>5.000000</td>\n",
       "      <td>8.000000</td>\n",
       "    </tr>\n",
       "    <tr>\n",
       "      <th>75%</th>\n",
       "      <td>7.000000</td>\n",
       "      <td>10.000000</td>\n",
       "    </tr>\n",
       "    <tr>\n",
       "      <th>max</th>\n",
       "      <td>10.000000</td>\n",
       "      <td>13.000000</td>\n",
       "    </tr>\n",
       "  </tbody>\n",
       "</table>\n",
       "</div>"
      ],
      "text/plain": [
       "       QWERTY errors  Alphabetical errors\n",
       "count      25.000000            25.000000\n",
       "mean        5.080000             7.800000\n",
       "std         2.059935             2.645751\n",
       "min         2.000000             3.000000\n",
       "25%         4.000000             6.000000\n",
       "50%         5.000000             8.000000\n",
       "75%         7.000000            10.000000\n",
       "max        10.000000            13.000000"
      ]
     },
     "execution_count": 10,
     "metadata": {},
     "output_type": "execute_result"
    }
   ],
   "source": [
    "# describe the data\n",
    "keyboards_df.describe()"
   ]
  },
  {
   "cell_type": "code",
   "execution_count": 11,
   "metadata": {
    "collapsed": false
   },
   "outputs": [
    {
     "name": "stdout",
     "output_type": "stream",
     "text": [
      "0      0\n",
      "1     -5\n",
      "2     -6\n",
      "3      2\n",
      "4     -3\n",
      "5      0\n",
      "6     -8\n",
      "7     -4\n",
      "8      1\n",
      "9      4\n",
      "10     3\n",
      "11    -1\n",
      "12    -6\n",
      "13    -3\n",
      "14    -1\n",
      "15     2\n",
      "16    -6\n",
      "17    -6\n",
      "18   -11\n",
      "19    -3\n",
      "20    -2\n",
      "21    -7\n",
      "22    -3\n",
      "23    -4\n",
      "24    -1\n",
      "dtype: int64\n"
     ]
    },
    {
     "data": {
      "text/plain": [
       "'diffs sd: 3.691'"
      ]
     },
     "execution_count": 11,
     "metadata": {},
     "output_type": "execute_result"
    }
   ],
   "source": [
    "# calc differences\n",
    "kb_diffs = pd.Series(keyboards_df['QWERTY errors'] - keyboards_df['Alphabetical errors'])\n",
    "\n",
    "# and calc the sd of the differences\n",
    "diffs_sd = np.std(kb_diffs, ddof = 1)\n",
    "\n",
    "# the results\n",
    "print kb_diffs\n",
    "'diffs sd: {:.3f}'.format(diffs_sd)"
   ]
  },
  {
   "cell_type": "code",
   "execution_count": 12,
   "metadata": {
    "collapsed": false
   },
   "outputs": [
    {
     "name": "stdout",
     "output_type": "stream",
     "text": [
      "-2.72\n"
     ]
    },
    {
     "data": {
      "text/plain": [
       "Ttest_1sampResult(statistic=0     -3.684208\n",
       "1      3.088233\n",
       "2      4.442721\n",
       "3     -6.393184\n",
       "4      0.379257\n",
       "5     -3.684208\n",
       "6      7.151697\n",
       "7      1.733745\n",
       "8     -5.038696\n",
       "9     -9.102160\n",
       "10    -7.747672\n",
       "11    -2.329720\n",
       "12     4.442721\n",
       "13     0.379257\n",
       "14    -2.329720\n",
       "15    -6.393184\n",
       "16     4.442721\n",
       "17     4.442721\n",
       "18    11.215161\n",
       "19     0.379257\n",
       "20    -0.975231\n",
       "21     5.797209\n",
       "22     0.379257\n",
       "23     1.733745\n",
       "24    -2.329720\n",
       "dtype: float64, pvalue=array([  1.16539763e-03,   5.02740996e-03,   1.71343204e-04,\n",
       "         1.30636551e-06,   7.07832153e-01,   1.16539763e-03,\n",
       "         2.16237975e-07,   9.57934862e-02,   3.76869573e-05,\n",
       "         2.98611333e-09,   5.53905222e-08,   2.85595685e-02,\n",
       "         1.71343204e-04,   7.07832153e-01,   2.85595685e-02,\n",
       "         1.30636551e-06,   1.71343204e-04,   1.71343204e-04,\n",
       "         5.00255769e-11,   7.07832153e-01,   3.39173474e-01,\n",
       "         5.62150829e-06,   7.07832153e-01,   9.57934862e-02,\n",
       "         2.85595685e-02]))"
      ]
     },
     "execution_count": 12,
     "metadata": {},
     "output_type": "execute_result"
    }
   ],
   "source": [
    "# get the t statistic\n",
    "print kb_diffs.mean()\n",
    "stats.ttest_1samp(kb_diffs, kb_diffs)"
   ]
  },
  {
   "cell_type": "code",
   "execution_count": 13,
   "metadata": {
    "collapsed": false
   },
   "outputs": [
    {
     "data": {
      "text/plain": [
       "'confidence intervals: (-4.24382293145, -1.19617706855)'"
      ]
     },
     "execution_count": 13,
     "metadata": {},
     "output_type": "execute_result"
    }
   ],
   "source": [
    "# calc mean of diffs\n",
    "diffs_mean = kb_diffs.mean()\n",
    "\n",
    "# calc confidence intervals\n",
    "ci1 = diffs_mean - (2.064 * (diffs_sd / np.sqrt(kb_diffs.count())))\n",
    "ci2 = diffs_mean + (2.064 * (diffs_sd / np.sqrt(kb_diffs.count())))\n",
    "\n",
    "# and display them\n",
    "'confidence intervals: ({}, {})'.format(ci1, ci2)"
   ]
  },
  {
   "cell_type": "code",
   "execution_count": 14,
   "metadata": {
    "collapsed": false
   },
   "outputs": [
    {
     "data": {
      "text/plain": [
       "Ttest_indResult(statistic=-4.0559385368573206, pvalue=0.00018256061720148224)"
      ]
     },
     "execution_count": 14,
     "metadata": {},
     "output_type": "execute_result"
    }
   ],
   "source": [
    "# attempt at all of the aboce with a two sample t test\n",
    "stats.ttest_ind(keyboards_df['QWERTY errors'], keyboards_df['Alphabetical errors'])"
   ]
  },
  {
   "cell_type": "markdown",
   "metadata": {
    "collapsed": true
   },
   "source": [
    "## Lesson 4b aka Lesson 10b"
   ]
  },
  {
   "cell_type": "markdown",
   "metadata": {},
   "source": [
    "### Food Costs - Full One Sample Test"
   ]
  },
  {
   "cell_type": "code",
   "execution_count": 56,
   "metadata": {
    "collapsed": false
   },
   "outputs": [],
   "source": [
    "mu = 151.00\n",
    "sd = 50.00\n",
    "mu_prog = 126.00\n",
    "null_hypo = mu_prog >= mu\n",
    "alt_hypo = mu_prog < mu\n",
    "t_crit = -1.711\n",
    "t_crit_2tailed = 2.064\n",
    "ss = 25.00\n",
    "df = ss - 1\n",
    "sem = sd / np.sqrt(ss)\n",
    "md = mu_prog - mu\n",
    "t_stat = md / sem\n",
    "cohens_d = md / sd\n",
    "r_sqd = t_stat**2 / (t_stat**2 + df)\n",
    "moe = t_crit_2tailed * sem\n",
    "ci_lower = mu_prog - moe\n",
    "ci_upper = mu_prog + moe"
   ]
  },
  {
   "cell_type": "code",
   "execution_count": 57,
   "metadata": {
    "collapsed": false
   },
   "outputs": [
    {
     "name": "stdout",
     "output_type": "stream",
     "text": [
      "Mu: 151.0\n",
      "SD: 50.0\n",
      "Mu program 126.0\n",
      "T Critical: -1.71\n",
      "Sample Size: 25.0\n",
      "Degrees of Freedom: 24.0\n",
      "Std Err of Mean: 10.00\n",
      "Mean difference: -25.00\n",
      "T-Statistic: -2.50\n",
      "Cohen's d: -0.50\n",
      "R^2: 0.21\n",
      "Margin of Error: 20.64\n",
      "Confidenc Interval: (105.36, 146.64)\n"
     ]
    }
   ],
   "source": [
    "print 'Mu:', mu\n",
    "print 'SD:', sd\n",
    "print 'Mu program', mu_prog\n",
    "print 'T Critical: {:.2f}'.format(t_crit)\n",
    "print 'Sample Size:', ss\n",
    "print 'Degrees of Freedom:', df\n",
    "print 'Std Err of Mean: {:.2f}'.format(sem)\n",
    "print 'Mean difference: {:.2f}'.format(md)\n",
    "print 'T-Statistic: {:.2f}'.format(t_stat)\n",
    "print \"Cohen's d: {:.2f}\".format(cohens_d)\n",
    "print 'R^2: {:.2f}'.format(r_sqd)\n",
    "print 'Margin of Error: {:.2f}'.format(moe)\n",
    "print 'Confidenc Interval: ({:.2f}, {:.2f})'.format(ci_lower, ci_upper)"
   ]
  },
  {
   "cell_type": "markdown",
   "metadata": {},
   "source": [
    "## Problem Set 4b aka 10b"
   ]
  },
  {
   "cell_type": "markdown",
   "metadata": {},
   "source": [
    "### Cell Phone Law"
   ]
  },
  {
   "cell_type": "code",
   "execution_count": 60,
   "metadata": {
    "collapsed": true
   },
   "outputs": [],
   "source": [
    "# create dataframe from provided data\n",
    "cellphone_df = pd.DataFrame([{'county': 1, 'pre-test': 8, 'post-test': 5}, {'county': 2, 'pre-test': 7, 'post-test': 6},\n",
    "                {'county': 3, 'pre-test': 6, 'post-test': 4}, {'county': 4, 'pre-test': 9, 'post-test': 6},\n",
    "                {'county': 5, 'pre-test': 10, 'post-test': 5}, {'county': 6, 'pre-test': 5, 'post-test': 3},\n",
    "                {'county': 7, 'pre-test': 7, 'post-test': 2}, {'county': 8, 'pre-test': 11, 'post-test': 9}, \n",
    "                {'county': 9, 'pre-test': 8, 'post-test': 4}, {'county': 10, 'pre-test': 7, 'post-test': 4}])"
   ]
  },
  {
   "cell_type": "code",
   "execution_count": 67,
   "metadata": {
    "collapsed": false
   },
   "outputs": [],
   "source": [
    "# add diff column to dataframe\n",
    "cellphone_df['difference'] = cellphone_df['post-test'] - cellphone_df['pre-test']"
   ]
  },
  {
   "cell_type": "code",
   "execution_count": 68,
   "metadata": {
    "collapsed": false
   },
   "outputs": [
    {
     "data": {
      "text/html": [
       "<div>\n",
       "<table border=\"1\" class=\"dataframe\">\n",
       "  <thead>\n",
       "    <tr style=\"text-align: right;\">\n",
       "      <th></th>\n",
       "      <th>county</th>\n",
       "      <th>post-test</th>\n",
       "      <th>pre-test</th>\n",
       "      <th>difference</th>\n",
       "    </tr>\n",
       "  </thead>\n",
       "  <tbody>\n",
       "    <tr>\n",
       "      <th>count</th>\n",
       "      <td>10.00000</td>\n",
       "      <td>10.000000</td>\n",
       "      <td>10.000000</td>\n",
       "      <td>10.000000</td>\n",
       "    </tr>\n",
       "    <tr>\n",
       "      <th>mean</th>\n",
       "      <td>5.50000</td>\n",
       "      <td>4.800000</td>\n",
       "      <td>7.800000</td>\n",
       "      <td>-3.000000</td>\n",
       "    </tr>\n",
       "    <tr>\n",
       "      <th>std</th>\n",
       "      <td>3.02765</td>\n",
       "      <td>1.932184</td>\n",
       "      <td>1.813529</td>\n",
       "      <td>1.333333</td>\n",
       "    </tr>\n",
       "    <tr>\n",
       "      <th>min</th>\n",
       "      <td>1.00000</td>\n",
       "      <td>2.000000</td>\n",
       "      <td>5.000000</td>\n",
       "      <td>-5.000000</td>\n",
       "    </tr>\n",
       "    <tr>\n",
       "      <th>25%</th>\n",
       "      <td>3.25000</td>\n",
       "      <td>4.000000</td>\n",
       "      <td>7.000000</td>\n",
       "      <td>-3.750000</td>\n",
       "    </tr>\n",
       "    <tr>\n",
       "      <th>50%</th>\n",
       "      <td>5.50000</td>\n",
       "      <td>4.500000</td>\n",
       "      <td>7.500000</td>\n",
       "      <td>-3.000000</td>\n",
       "    </tr>\n",
       "    <tr>\n",
       "      <th>75%</th>\n",
       "      <td>7.75000</td>\n",
       "      <td>5.750000</td>\n",
       "      <td>8.750000</td>\n",
       "      <td>-2.000000</td>\n",
       "    </tr>\n",
       "    <tr>\n",
       "      <th>max</th>\n",
       "      <td>10.00000</td>\n",
       "      <td>9.000000</td>\n",
       "      <td>11.000000</td>\n",
       "      <td>-1.000000</td>\n",
       "    </tr>\n",
       "  </tbody>\n",
       "</table>\n",
       "</div>"
      ],
      "text/plain": [
       "         county  post-test   pre-test  difference\n",
       "count  10.00000  10.000000  10.000000   10.000000\n",
       "mean    5.50000   4.800000   7.800000   -3.000000\n",
       "std     3.02765   1.932184   1.813529    1.333333\n",
       "min     1.00000   2.000000   5.000000   -5.000000\n",
       "25%     3.25000   4.000000   7.000000   -3.750000\n",
       "50%     5.50000   4.500000   7.500000   -3.000000\n",
       "75%     7.75000   5.750000   8.750000   -2.000000\n",
       "max    10.00000   9.000000  11.000000   -1.000000"
      ]
     },
     "execution_count": 68,
     "metadata": {},
     "output_type": "execute_result"
    }
   ],
   "source": [
    "# describe the data\n",
    "cellphone_df.describe()"
   ]
  },
  {
   "cell_type": "code",
   "execution_count": 117,
   "metadata": {
    "collapsed": false
   },
   "outputs": [],
   "source": [
    "pre_test_mean = cellphone_df['pre-test'].mean()\n",
    "post_test_mean = cellphone_df['post-test'].mean()\n",
    "diff_mean = cellphone_df['difference'].mean()\n",
    "t_crit = -1.833\n",
    "t_crit_2tailed = 2.262\n",
    "ss = float(cellphone_df['county'].count())\n",
    "diff_sd = cellphone_df['difference'].std()\n",
    "diff_sem = diff_sd / np.sqrt(ss)\n",
    "diff_t = stats.ttest_1samp(cellphone_df['post-test'], cellphone_df['pre-test'])\n",
    "diff_t_manual = diff_mean / diff_sem\n",
    "cohens_d = diff_mean / diff_sd\n",
    "moe = t_crit_2tailed * diff_sem\n",
    "ci_lower = diff_mean - moe\n",
    "ci_upper = diff_mean + moe"
   ]
  },
  {
   "cell_type": "code",
   "execution_count": 118,
   "metadata": {
    "collapsed": false
   },
   "outputs": [
    {
     "name": "stdout",
     "output_type": "stream",
     "text": [
      "Mean of pre-test: 7.80\n",
      "Mean of post-test: 4.80\n",
      "Mean of difference: -3.00\n",
      "T-Critical value: -1.833\n",
      "T-Critical 2-tailed: 2.262\n",
      "Sample size: 10.0\n",
      "SD of difference: 1.33\n",
      "SE of mean of difference: 0.42\n",
      "T-stat done manually: -7.12\n",
      "Cohen's d: -2.25\n",
      "Margin of error: 0.95\n",
      "CI lower bound: -3.95\n",
      "CI upper bound: -2.05\n"
     ]
    }
   ],
   "source": [
    "print 'Mean of pre-test: {:.2f}'.format(pre_test_mean)\n",
    "print 'Mean of post-test: {:.2f}'.format(post_test_mean)\n",
    "print 'Mean of difference: {:.2f}'.format(diff_mean)\n",
    "print 'T-Critical value:', t_crit\n",
    "print 'T-Critical 2-tailed:', t_crit_2tailed\n",
    "print 'Sample size:', ss\n",
    "print 'SD of difference: {:.2f}'.format(diff_sd)\n",
    "print 'SE of mean of difference: {:.2f}'.format(diff_sem)\n",
    "# print 'T-stat:', diff_t\n",
    "print 'T-stat done manually: {:.2f}'.format(diff_t_manual)\n",
    "print \"Cohen's d: {:.2f}\".format(cohens_d)\n",
    "print 'Margin of error: {:.2f}'.format(moe)\n",
    "print 'CI lower bound: {:.2f}'.format(ci_lower)\n",
    "print 'CI upper bound: {:.2f}'.format(ci_upper)"
   ]
  },
  {
   "cell_type": "code",
   "execution_count": null,
   "metadata": {
    "collapsed": true
   },
   "outputs": [],
   "source": []
  }
 ],
 "metadata": {
  "kernelspec": {
   "display_name": "Python [Root]",
   "language": "python",
   "name": "Python [Root]"
  },
  "language_info": {
   "codemirror_mode": {
    "name": "ipython",
    "version": 2
   },
   "file_extension": ".py",
   "mimetype": "text/x-python",
   "name": "python",
   "nbconvert_exporter": "python",
   "pygments_lexer": "ipython2",
   "version": "2.7.12"
  }
 },
 "nbformat": 4,
 "nbformat_minor": 0
}
